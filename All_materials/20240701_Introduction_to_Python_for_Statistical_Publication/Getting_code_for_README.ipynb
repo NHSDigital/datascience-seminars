{
 "cells": [
  {
   "cell_type": "code",
   "execution_count": 2,
   "id": "707894d4",
   "metadata": {},
   "outputs": [],
   "source": [
    "import pandas as pd"
   ]
  },
  {
   "cell_type": "code",
   "execution_count": 3,
   "id": "5aee16b9",
   "metadata": {},
   "outputs": [
    {
     "name": "stdout",
     "output_type": "stream",
     "text": [
      "Index(['FYEAR', 'PARTYEAR', 'EPIKEY', 'AEKEY', 'PSEUDO_HESID', 'ADMIDATE',\n",
      "       'ADMIMETH', 'ADMINCAT', 'ADMINCATST', 'ADMISORC',\n",
      "       ...\n",
      "       'ALCBRDDIAG', 'SITEDIST', 'SITEDIST_FLAG', 'PROVDIST', 'PROVDIST_FLAG',\n",
      "       'HRG40', 'HRGLATE35', 'NER_GP_PRACTICE', 'NER_RESIDENCE',\n",
      "       'NER_TREATMENT'],\n",
      "      dtype='object', length=193)\n"
     ]
    },
    {
     "name": "stderr",
     "output_type": "stream",
     "text": [
      "C:\\Users\\KEQU2\\AppData\\Local\\Temp/ipykernel_20512/4090913151.py:1: DtypeWarning: Columns (117,142,176) have mixed types. Specify dtype option on import or set low_memory=False.\n",
      "  hes_data = pd.read_csv('artificial_hes_apc_2021.csv')\n"
     ]
    }
   ],
   "source": [
    "hes_data = pd.read_csv('artificial_hes_apc_2021.csv')\n",
    "\n",
    "list_of_cols = hes_data.columns\n",
    "\n",
    "print(list_of_cols)"
   ]
  },
  {
   "cell_type": "code",
   "execution_count": 4,
   "id": "02c14277",
   "metadata": {},
   "outputs": [
    {
     "name": "stdout",
     "output_type": "stream",
     "text": [
      "             AEKEY\n",
      "0     964210830588\n",
      "1     181876493987\n",
      "2     803179514887\n",
      "3     717571868364\n",
      "4     186017970650\n",
      "...            ...\n",
      "9995  458811949094\n",
      "9996  535907087711\n",
      "9997  330259049557\n",
      "9998   91456566017\n",
      "9999  797354734157\n",
      "\n",
      "[10000 rows x 1 columns]\n"
     ]
    },
    {
     "name": "stderr",
     "output_type": "stream",
     "text": [
      "C:\\Users\\KEQU2\\AppData\\Local\\Temp/ipykernel_20512/2739608447.py:1: DtypeWarning: Columns (117,142,176) have mixed types. Specify dtype option on import or set low_memory=False.\n",
      "  hes_data = pd.read_csv('artificial_hes_apc_2021.csv')\n"
     ]
    }
   ],
   "source": [
    "hes_data = pd.read_csv('artificial_hes_apc_2021.csv')\n",
    "\n",
    "selected_col = hes_data[['AEKEY']]\n",
    "\n",
    "print(selected_col)"
   ]
  },
  {
   "cell_type": "code",
   "execution_count": 5,
   "id": "8ea1192c",
   "metadata": {},
   "outputs": [
    {
     "name": "stdout",
     "output_type": "stream",
     "text": [
      "FYEAR                                          2021\n",
      "PARTYEAR                                     202099\n",
      "EPIKEY                                 682563308547\n",
      "AEKEY                                  717571868364\n",
      "PSEUDO_HESID       TESTiJLlLWNNzwDWQwc1km6K55HsW0xS\n",
      "                                 ...               \n",
      "HRG40                                           NaN\n",
      "HRGLATE35                                       NaN\n",
      "NER_GP_PRACTICE                                 QHL\n",
      "NER_RESIDENCE                                   QK1\n",
      "NER_TREATMENT                                   QU9\n",
      "Name: 3, Length: 193, dtype: object\n"
     ]
    },
    {
     "name": "stderr",
     "output_type": "stream",
     "text": [
      "C:\\Users\\KEQU2\\AppData\\Local\\Temp/ipykernel_20512/2409311640.py:1: DtypeWarning: Columns (117,142,176) have mixed types. Specify dtype option on import or set low_memory=False.\n",
      "  hes_data = pd.read_csv('artificial_hes_apc_2021.csv')\n"
     ]
    }
   ],
   "source": [
    "hes_data = pd.read_csv('artificial_hes_apc_2021.csv')\n",
    "\n",
    "selected_row = hes_data.iloc[3]\n",
    "\n",
    "print(selected_row)"
   ]
  },
  {
   "cell_type": "code",
   "execution_count": 6,
   "id": "4918d106",
   "metadata": {},
   "outputs": [
    {
     "name": "stdout",
     "output_type": "stream",
     "text": [
      "2020-06-23\n"
     ]
    },
    {
     "name": "stderr",
     "output_type": "stream",
     "text": [
      "C:\\Users\\KEQU2\\AppData\\Local\\Temp/ipykernel_20512/456522691.py:1: DtypeWarning: Columns (117,142,176) have mixed types. Specify dtype option on import or set low_memory=False.\n",
      "  hes_data = pd.read_csv('artificial_hes_apc_2021.csv')\n"
     ]
    }
   ],
   "source": [
    "hes_data = pd.read_csv('artificial_hes_apc_2021.csv')\n",
    "\n",
    "selected_entry = hes_data.iloc[3]['ADMIDATE']\n",
    "\n",
    "print(selected_entry)"
   ]
  },
  {
   "cell_type": "code",
   "execution_count": 7,
   "id": "540ef97b",
   "metadata": {},
   "outputs": [
    {
     "name": "stdout",
     "output_type": "stream",
     "text": [
      "0       98\n",
      "1       19\n",
      "2       19\n",
      "3       19\n",
      "4       51\n",
      "        ..\n",
      "9995    79\n",
      "9996    19\n",
      "9997    19\n",
      "9998    19\n",
      "9999    19\n",
      "Name: DISDEST, Length: 10000, dtype: int64\n"
     ]
    },
    {
     "name": "stderr",
     "output_type": "stream",
     "text": [
      "C:\\Users\\KEQU2\\AppData\\Local\\Temp/ipykernel_20512/105069623.py:1: DtypeWarning: Columns (117,142,176) have mixed types. Specify dtype option on import or set low_memory=False.\n",
      "  hes_data = pd.read_csv('artificial_hes_apc_2021.csv')\n"
     ]
    }
   ],
   "source": [
    "hes_data = pd.read_csv('artificial_hes_apc_2021.csv')\n",
    "\n",
    "number_col = hes_data['DISDEST']\n",
    "\n",
    "print(number_col)"
   ]
  },
  {
   "cell_type": "code",
   "execution_count": 8,
   "id": "9bfd61a9",
   "metadata": {},
   "outputs": [
    {
     "name": "stdout",
     "output_type": "stream",
     "text": [
      "0       R410test\n",
      "1       I214test\n",
      "2       A099test\n",
      "3       U071test\n",
      "4       Z380test\n",
      "          ...   \n",
      "9995    I64Xtest\n",
      "9996    N185test\n",
      "9997    N185test\n",
      "9998    K510test\n",
      "9999    O368test\n",
      "Name: DIAG_4_01, Length: 10000, dtype: object\n",
      "0       R410R410\n",
      "1       I214I214\n",
      "2       A099A099\n",
      "3       U071U071\n",
      "4       Z380Z380\n",
      "          ...   \n",
      "9995    I64XI64X\n",
      "9996    N185N185\n",
      "9997    N185N185\n",
      "9998    K510K510\n",
      "9999    O368O368\n",
      "Name: DIAG_4_01, Length: 10000, dtype: object\n"
     ]
    },
    {
     "name": "stderr",
     "output_type": "stream",
     "text": [
      "C:\\Users\\KEQU2\\AppData\\Local\\Temp/ipykernel_20512/3651708647.py:1: DtypeWarning: Columns (117,142,176) have mixed types. Specify dtype option on import or set low_memory=False.\n",
      "  hes_data = pd.read_csv('artificial_hes_apc_2021.csv')\n"
     ]
    }
   ],
   "source": [
    "hes_data = pd.read_csv('artificial_hes_apc_2021.csv')\n",
    "\n",
    "string_col = hes_data['DIAG_4_01']\n",
    "\n",
    "print(string_col + 'test')\n",
    "\n",
    "print(string_col * 2)"
   ]
  },
  {
   "cell_type": "code",
   "execution_count": 9,
   "id": "8685ebb8",
   "metadata": {},
   "outputs": [
    {
     "name": "stdout",
     "output_type": "stream",
     "text": [
      "0      2020-06-16\n",
      "1      2020-05-28\n",
      "2      1801-01-01\n",
      "3      2020-06-23\n",
      "4      2020-09-10\n",
      "          ...    \n",
      "9995   2020-04-21\n",
      "9996   2020-06-17\n",
      "9997   2020-06-03\n",
      "9998   2020-07-04\n",
      "9999   2020-08-04\n",
      "Name: ADMIDATE, Length: 10000, dtype: datetime64[ns]\n"
     ]
    },
    {
     "name": "stderr",
     "output_type": "stream",
     "text": [
      "C:\\Users\\KEQU2\\AppData\\Local\\Temp/ipykernel_20512/1376477981.py:1: DtypeWarning: Columns (117,142,176) have mixed types. Specify dtype option on import or set low_memory=False.\n",
      "  hes_data = pd.read_csv('artificial_hes_apc_2021.csv')\n"
     ]
    }
   ],
   "source": [
    "hes_data = pd.read_csv('artificial_hes_apc_2021.csv')\n",
    "\n",
    "date_looking_col = hes_data['ADMIDATE']\n",
    "\n",
    "date_col = pd.to_datetime(date_looking_col, format=\"%Y/%m/%d\")\n",
    "\n",
    "print(date_col)"
   ]
  },
  {
   "cell_type": "code",
   "execution_count": 10,
   "id": "131d3ce8",
   "metadata": {},
   "outputs": [
    {
     "name": "stdout",
     "output_type": "stream",
     "text": [
      "DISDEST    34.0488\n",
      "dtype: float64\n"
     ]
    },
    {
     "name": "stderr",
     "output_type": "stream",
     "text": [
      "C:\\Users\\KEQU2\\AppData\\Local\\Temp/ipykernel_20512/170796783.py:1: DtypeWarning: Columns (117,142,176) have mixed types. Specify dtype option on import or set low_memory=False.\n",
      "  hes_data = pd.read_csv('artificial_hes_apc_2021.csv')\n"
     ]
    }
   ],
   "source": [
    "hes_data = pd.read_csv('artificial_hes_apc_2021.csv')\n",
    "\n",
    "selecting_distances = hes_data[['DISDEST']]\n",
    "\n",
    "mean_distance = selecting_distances.mean()\n",
    "\n",
    "print(mean_distance)"
   ]
  },
  {
   "cell_type": "code",
   "execution_count": 13,
   "id": "f47cfe76",
   "metadata": {},
   "outputs": [
    {
     "name": "stdout",
     "output_type": "stream",
     "text": [
      "                                 DISDEST               \n",
      "                                     min max       mean\n",
      "PSEUDO_HESID                                           \n",
      "TEST01AK26NL3mnt9M7pxL16YoM0KNeL      19  19  19.000000\n",
      "TEST01b7Koh2w2JYQSIVw1be0U3fhrUl      19  19  19.000000\n",
      "TEST02XMLlZBZ8Fotjkz502C45o53o5P      19  79  34.000000\n",
      "TEST03rRjoB9JAjIy13RcBzy60HAhlw1      19  98  34.800000\n",
      "TEST04JhoF3YDnJ7hIqbQxQszSY3Girq      19  19  19.000000\n",
      "...                                  ...  ..        ...\n",
      "TESTzva2qhEOGuW1pPALBWTddAo32Wmx      19  19  19.000000\n",
      "TESTzvnkszWnwsL7PzRPMHsOCZHxT4Ba      19  19  19.000000\n",
      "TESTzwGcvgqIvYVqX4kggemxglcUHVUm      19  19  19.000000\n",
      "TESTzyqxoZw3dwcqUOjBUg9YfLooAfk4      19  98  45.333333\n",
      "TESTzzneRjqcDefWSwg5hmvFG0yCZcaq      19  19  19.000000\n",
      "\n",
      "[4189 rows x 3 columns]\n"
     ]
    },
    {
     "name": "stderr",
     "output_type": "stream",
     "text": [
      "C:\\Users\\KEQU2\\AppData\\Local\\Temp/ipykernel_20512/467228072.py:1: DtypeWarning: Columns (117,142,176) have mixed types. Specify dtype option on import or set low_memory=False.\n",
      "  hes_data = pd.read_csv('artificial_hes_apc_2021.csv')\n"
     ]
    }
   ],
   "source": [
    "hes_data = pd.read_csv('artificial_hes_apc_2021.csv')\n",
    "\n",
    "selecting_each_patient = hes_data[['PSEUDO_HESID','DISDEST']]\n",
    "\n",
    "grouping_agg_distance = selecting_each_patient.groupby('PSEUDO_HESID').agg(['min','max','mean'])\n",
    "\n",
    "print(grouping_agg_distance)"
   ]
  },
  {
   "cell_type": "code",
   "execution_count": 12,
   "id": "fd75d711",
   "metadata": {},
   "outputs": [
    {
     "name": "stdout",
     "output_type": "stream",
     "text": [
      "                 ELECDUR_CALC\n",
      "                         mean\n",
      "DIAG_4_01 ETHNOS             \n",
      "A020      99       132.000000\n",
      "A045      A         23.500000\n",
      "          J        362.000000\n",
      "A047      A         19.333333\n",
      "          B        191.000000\n",
      "...                       ...\n",
      "Z867      A        237.000000\n",
      "Z871      A         27.000000\n",
      "Z880      A          7.000000\n",
      "Z923      A         14.000000\n",
      "Z940      99        14.000000\n",
      "\n",
      "[3519 rows x 1 columns]\n"
     ]
    },
    {
     "name": "stderr",
     "output_type": "stream",
     "text": [
      "C:\\Users\\KEQU2\\AppData\\Local\\Temp/ipykernel_20512/2240135283.py:1: DtypeWarning: Columns (117,142,176) have mixed types. Specify dtype option on import or set low_memory=False.\n",
      "  hes_data = pd.read_csv('artificial_hes_apc_2021.csv')\n"
     ]
    }
   ],
   "source": [
    "hes_data = pd.read_csv('artificial_hes_apc_2021.csv')\n",
    "\n",
    "selecting_diag_codes_and_demogr_data = hes_data[['DIAG_4_01','ETHNOS','ELECDUR_CALC']]\n",
    "\n",
    "grouping_dia_codes = selecting_diag_codes_and_demogr_data.groupby(['DIAG_4_01','ETHNOS']).agg(['mean'])\n",
    "\n",
    "print(grouping_dia_codes)"
   ]
  },
  {
   "cell_type": "code",
   "execution_count": null,
   "id": "c5dc13a4",
   "metadata": {},
   "outputs": [],
   "source": []
  }
 ],
 "metadata": {
  "kernelspec": {
   "display_name": "Python 3 (ipykernel)",
   "language": "python",
   "name": "python3"
  },
  "language_info": {
   "codemirror_mode": {
    "name": "ipython",
    "version": 3
   },
   "file_extension": ".py",
   "mimetype": "text/x-python",
   "name": "python",
   "nbconvert_exporter": "python",
   "pygments_lexer": "ipython3",
   "version": "3.9.7"
  }
 },
 "nbformat": 4,
 "nbformat_minor": 5
}
