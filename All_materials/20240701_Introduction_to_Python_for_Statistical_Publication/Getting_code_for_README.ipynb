{
 "cells": [
  {
   "cell_type": "code",
   "execution_count": 18,
   "id": "707894d4",
   "metadata": {},
   "outputs": [],
   "source": [
    "import pandas as pd\n",
    "import datetime"
   ]
  },
  {
   "cell_type": "code",
   "execution_count": 2,
   "id": "5aee16b9",
   "metadata": {},
   "outputs": [
    {
     "name": "stdout",
     "output_type": "stream",
     "text": [
      "Index(['FYEAR', 'PARTYEAR', 'EPIKEY', 'AEKEY', 'PSEUDO_HESID', 'ADMIDATE',\n",
      "       'ADMIMETH', 'ADMINCAT', 'ADMINCATST', 'ADMISORC',\n",
      "       ...\n",
      "       'ALCBRDDIAG', 'SITEDIST', 'SITEDIST_FLAG', 'PROVDIST', 'PROVDIST_FLAG',\n",
      "       'HRG40', 'HRGLATE35', 'NER_GP_PRACTICE', 'NER_RESIDENCE',\n",
      "       'NER_TREATMENT'],\n",
      "      dtype='object', length=193)\n"
     ]
    },
    {
     "name": "stderr",
     "output_type": "stream",
     "text": [
      "C:\\Users\\KEQU2\\AppData\\Local\\Temp/ipykernel_27316/4090913151.py:1: DtypeWarning: Columns (117,142,176) have mixed types. Specify dtype option on import or set low_memory=False.\n",
      "  hes_data = pd.read_csv('artificial_hes_apc_2021.csv')\n"
     ]
    }
   ],
   "source": [
    "hes_data = pd.read_csv('artificial_hes_apc_2021.csv')\n",
    "\n",
    "list_of_cols = hes_data.columns\n",
    "\n",
    "print(list_of_cols)"
   ]
  },
  {
   "cell_type": "code",
   "execution_count": 3,
   "id": "02c14277",
   "metadata": {},
   "outputs": [
    {
     "name": "stderr",
     "output_type": "stream",
     "text": [
      "C:\\Users\\KEQU2\\AppData\\Local\\Temp/ipykernel_27316/2739608447.py:1: DtypeWarning: Columns (117,142,176) have mixed types. Specify dtype option on import or set low_memory=False.\n",
      "  hes_data = pd.read_csv('artificial_hes_apc_2021.csv')\n"
     ]
    },
    {
     "name": "stdout",
     "output_type": "stream",
     "text": [
      "             AEKEY\n",
      "0     964210830588\n",
      "1     181876493987\n",
      "2     803179514887\n",
      "3     717571868364\n",
      "4     186017970650\n",
      "...            ...\n",
      "9995  458811949094\n",
      "9996  535907087711\n",
      "9997  330259049557\n",
      "9998   91456566017\n",
      "9999  797354734157\n",
      "\n",
      "[10000 rows x 1 columns]\n"
     ]
    }
   ],
   "source": [
    "hes_data = pd.read_csv('artificial_hes_apc_2021.csv')\n",
    "\n",
    "selected_col = hes_data[['AEKEY']]\n",
    "\n",
    "print(selected_col)"
   ]
  },
  {
   "cell_type": "code",
   "execution_count": 4,
   "id": "8ea1192c",
   "metadata": {},
   "outputs": [
    {
     "name": "stdout",
     "output_type": "stream",
     "text": [
      "FYEAR                                          2021\n",
      "PARTYEAR                                     202099\n",
      "EPIKEY                                 682563308547\n",
      "AEKEY                                  717571868364\n",
      "PSEUDO_HESID       TESTiJLlLWNNzwDWQwc1km6K55HsW0xS\n",
      "                                 ...               \n",
      "HRG40                                           NaN\n",
      "HRGLATE35                                       NaN\n",
      "NER_GP_PRACTICE                                 QHL\n",
      "NER_RESIDENCE                                   QK1\n",
      "NER_TREATMENT                                   QU9\n",
      "Name: 3, Length: 193, dtype: object\n"
     ]
    },
    {
     "name": "stderr",
     "output_type": "stream",
     "text": [
      "C:\\Users\\KEQU2\\AppData\\Local\\Temp/ipykernel_27316/2409311640.py:1: DtypeWarning: Columns (117,142,176) have mixed types. Specify dtype option on import or set low_memory=False.\n",
      "  hes_data = pd.read_csv('artificial_hes_apc_2021.csv')\n"
     ]
    }
   ],
   "source": [
    "hes_data = pd.read_csv('artificial_hes_apc_2021.csv')\n",
    "\n",
    "selected_row = hes_data.iloc[3]\n",
    "\n",
    "print(selected_row)"
   ]
  },
  {
   "cell_type": "code",
   "execution_count": 5,
   "id": "4918d106",
   "metadata": {},
   "outputs": [
    {
     "name": "stdout",
     "output_type": "stream",
     "text": [
      "2020-06-23\n"
     ]
    },
    {
     "name": "stderr",
     "output_type": "stream",
     "text": [
      "C:\\Users\\KEQU2\\AppData\\Local\\Temp/ipykernel_27316/456522691.py:1: DtypeWarning: Columns (117,142,176) have mixed types. Specify dtype option on import or set low_memory=False.\n",
      "  hes_data = pd.read_csv('artificial_hes_apc_2021.csv')\n"
     ]
    }
   ],
   "source": [
    "hes_data = pd.read_csv('artificial_hes_apc_2021.csv')\n",
    "\n",
    "selected_entry = hes_data.iloc[3]['ADMIDATE']\n",
    "\n",
    "print(selected_entry)"
   ]
  },
  {
   "cell_type": "code",
   "execution_count": 6,
   "id": "540ef97b",
   "metadata": {},
   "outputs": [
    {
     "name": "stdout",
     "output_type": "stream",
     "text": [
      "0       98\n",
      "1       19\n",
      "2       19\n",
      "3       19\n",
      "4       51\n",
      "        ..\n",
      "9995    79\n",
      "9996    19\n",
      "9997    19\n",
      "9998    19\n",
      "9999    19\n",
      "Name: DISDEST, Length: 10000, dtype: int64\n"
     ]
    },
    {
     "name": "stderr",
     "output_type": "stream",
     "text": [
      "C:\\Users\\KEQU2\\AppData\\Local\\Temp/ipykernel_27316/105069623.py:1: DtypeWarning: Columns (117,142,176) have mixed types. Specify dtype option on import or set low_memory=False.\n",
      "  hes_data = pd.read_csv('artificial_hes_apc_2021.csv')\n"
     ]
    }
   ],
   "source": [
    "hes_data = pd.read_csv('artificial_hes_apc_2021.csv')\n",
    "\n",
    "number_col = hes_data['DISDEST']\n",
    "\n",
    "print(number_col)"
   ]
  },
  {
   "cell_type": "code",
   "execution_count": 7,
   "id": "9bfd61a9",
   "metadata": {},
   "outputs": [
    {
     "name": "stdout",
     "output_type": "stream",
     "text": [
      "0       R410test\n",
      "1       I214test\n",
      "2       A099test\n",
      "3       U071test\n",
      "4       Z380test\n",
      "          ...   \n",
      "9995    I64Xtest\n",
      "9996    N185test\n",
      "9997    N185test\n",
      "9998    K510test\n",
      "9999    O368test\n",
      "Name: DIAG_4_01, Length: 10000, dtype: object\n",
      "0       R410R410\n",
      "1       I214I214\n",
      "2       A099A099\n",
      "3       U071U071\n",
      "4       Z380Z380\n",
      "          ...   \n",
      "9995    I64XI64X\n",
      "9996    N185N185\n",
      "9997    N185N185\n",
      "9998    K510K510\n",
      "9999    O368O368\n",
      "Name: DIAG_4_01, Length: 10000, dtype: object\n"
     ]
    },
    {
     "name": "stderr",
     "output_type": "stream",
     "text": [
      "C:\\Users\\KEQU2\\AppData\\Local\\Temp/ipykernel_27316/3651708647.py:1: DtypeWarning: Columns (117,142,176) have mixed types. Specify dtype option on import or set low_memory=False.\n",
      "  hes_data = pd.read_csv('artificial_hes_apc_2021.csv')\n"
     ]
    }
   ],
   "source": [
    "hes_data = pd.read_csv('artificial_hes_apc_2021.csv')\n",
    "\n",
    "string_col = hes_data['DIAG_4_01']\n",
    "\n",
    "print(string_col + 'test')\n",
    "\n",
    "print(string_col * 2)"
   ]
  },
  {
   "cell_type": "code",
   "execution_count": 8,
   "id": "8685ebb8",
   "metadata": {},
   "outputs": [
    {
     "name": "stdout",
     "output_type": "stream",
     "text": [
      "0      2020-06-16\n",
      "1      2020-05-28\n",
      "2      1801-01-01\n",
      "3      2020-06-23\n",
      "4      2020-09-10\n",
      "          ...    \n",
      "9995   2020-04-21\n",
      "9996   2020-06-17\n",
      "9997   2020-06-03\n",
      "9998   2020-07-04\n",
      "9999   2020-08-04\n",
      "Name: ADMIDATE, Length: 10000, dtype: datetime64[ns]\n"
     ]
    },
    {
     "name": "stderr",
     "output_type": "stream",
     "text": [
      "C:\\Users\\KEQU2\\AppData\\Local\\Temp/ipykernel_27316/1376477981.py:1: DtypeWarning: Columns (117,142,176) have mixed types. Specify dtype option on import or set low_memory=False.\n",
      "  hes_data = pd.read_csv('artificial_hes_apc_2021.csv')\n"
     ]
    }
   ],
   "source": [
    "hes_data = pd.read_csv('artificial_hes_apc_2021.csv')\n",
    "\n",
    "date_looking_col = hes_data['ADMIDATE']\n",
    "\n",
    "date_col = pd.to_datetime(date_looking_col, format=\"%Y/%m/%d\")\n",
    "\n",
    "print(date_col)"
   ]
  },
  {
   "cell_type": "code",
   "execution_count": 9,
   "id": "131d3ce8",
   "metadata": {},
   "outputs": [
    {
     "name": "stdout",
     "output_type": "stream",
     "text": [
      "DISDEST    34.0488\n",
      "dtype: float64\n"
     ]
    },
    {
     "name": "stderr",
     "output_type": "stream",
     "text": [
      "C:\\Users\\KEQU2\\AppData\\Local\\Temp/ipykernel_27316/170796783.py:1: DtypeWarning: Columns (117,142,176) have mixed types. Specify dtype option on import or set low_memory=False.\n",
      "  hes_data = pd.read_csv('artificial_hes_apc_2021.csv')\n"
     ]
    }
   ],
   "source": [
    "hes_data = pd.read_csv('artificial_hes_apc_2021.csv')\n",
    "\n",
    "selecting_distances = hes_data[['DISDEST']]\n",
    "\n",
    "mean_distance = selecting_distances.mean()\n",
    "\n",
    "print(mean_distance)"
   ]
  },
  {
   "cell_type": "code",
   "execution_count": 10,
   "id": "f47cfe76",
   "metadata": {},
   "outputs": [
    {
     "name": "stdout",
     "output_type": "stream",
     "text": [
      "                                 DISDEST               \n",
      "                                     min max       mean\n",
      "PSEUDO_HESID                                           \n",
      "TEST01AK26NL3mnt9M7pxL16YoM0KNeL      19  19  19.000000\n",
      "TEST01b7Koh2w2JYQSIVw1be0U3fhrUl      19  19  19.000000\n",
      "TEST02XMLlZBZ8Fotjkz502C45o53o5P      19  79  34.000000\n",
      "TEST03rRjoB9JAjIy13RcBzy60HAhlw1      19  98  34.800000\n",
      "TEST04JhoF3YDnJ7hIqbQxQszSY3Girq      19  19  19.000000\n",
      "...                                  ...  ..        ...\n",
      "TESTzva2qhEOGuW1pPALBWTddAo32Wmx      19  19  19.000000\n",
      "TESTzvnkszWnwsL7PzRPMHsOCZHxT4Ba      19  19  19.000000\n",
      "TESTzwGcvgqIvYVqX4kggemxglcUHVUm      19  19  19.000000\n",
      "TESTzyqxoZw3dwcqUOjBUg9YfLooAfk4      19  98  45.333333\n",
      "TESTzzneRjqcDefWSwg5hmvFG0yCZcaq      19  19  19.000000\n",
      "\n",
      "[4189 rows x 3 columns]\n"
     ]
    },
    {
     "name": "stderr",
     "output_type": "stream",
     "text": [
      "C:\\Users\\KEQU2\\AppData\\Local\\Temp/ipykernel_27316/467228072.py:1: DtypeWarning: Columns (117,142,176) have mixed types. Specify dtype option on import or set low_memory=False.\n",
      "  hes_data = pd.read_csv('artificial_hes_apc_2021.csv')\n"
     ]
    }
   ],
   "source": [
    "hes_data = pd.read_csv('artificial_hes_apc_2021.csv')\n",
    "\n",
    "selecting_each_patient = hes_data[['PSEUDO_HESID','DISDEST']]\n",
    "\n",
    "grouping_agg_distance = selecting_each_patient.groupby('PSEUDO_HESID').agg(['min','max','mean'])\n",
    "\n",
    "print(grouping_agg_distance)"
   ]
  },
  {
   "cell_type": "code",
   "execution_count": 11,
   "id": "fd75d711",
   "metadata": {},
   "outputs": [
    {
     "name": "stdout",
     "output_type": "stream",
     "text": [
      "                 ELECDUR_CALC\n",
      "                         mean\n",
      "DIAG_4_01 ETHNOS             \n",
      "A020      99       132.000000\n",
      "A045      A         23.500000\n",
      "          J        362.000000\n",
      "A047      A         19.333333\n",
      "          B        191.000000\n",
      "...                       ...\n",
      "Z867      A        237.000000\n",
      "Z871      A         27.000000\n",
      "Z880      A          7.000000\n",
      "Z923      A         14.000000\n",
      "Z940      99        14.000000\n",
      "\n",
      "[3519 rows x 1 columns]\n"
     ]
    },
    {
     "name": "stderr",
     "output_type": "stream",
     "text": [
      "C:\\Users\\KEQU2\\AppData\\Local\\Temp/ipykernel_27316/2240135283.py:1: DtypeWarning: Columns (117,142,176) have mixed types. Specify dtype option on import or set low_memory=False.\n",
      "  hes_data = pd.read_csv('artificial_hes_apc_2021.csv')\n"
     ]
    }
   ],
   "source": [
    "hes_data = pd.read_csv('artificial_hes_apc_2021.csv')\n",
    "\n",
    "selecting_diag_codes_and_demogr_data = hes_data[['DIAG_4_01','ETHNOS','ELECDUR_CALC']]\n",
    "\n",
    "grouping_dia_codes = selecting_diag_codes_and_demogr_data.groupby(['DIAG_4_01','ETHNOS']).agg(['mean'])\n",
    "\n",
    "print(grouping_dia_codes)"
   ]
  },
  {
   "cell_type": "code",
   "execution_count": 12,
   "id": "c5dc13a4",
   "metadata": {},
   "outputs": [
    {
     "name": "stdout",
     "output_type": "stream",
     "text": [
      "      FYEAR  PARTYEAR        EPIKEY         AEKEY  \\\n",
      "24     2021    202099  585737430021  353207117498   \n",
      "25     2021    202099  641584095548  841241808265   \n",
      "47     2021    202099   66769092482    6927785461   \n",
      "51     2021    202099  668599587961  453493845747   \n",
      "52     2021    202099  323796065277  771797218037   \n",
      "...     ...       ...           ...           ...   \n",
      "9967   2021    202099  580375725360  386806005510   \n",
      "9968   2021    202099  493424399092  497563508989   \n",
      "9969   2021    202099  229952762411  123623831250   \n",
      "9970   2021    202099  362179904946  380855611607   \n",
      "9971   2021    202099  578573633465  410397003075   \n",
      "\n",
      "                          PSEUDO_HESID    ADMIDATE ADMIMETH  ADMINCAT  \\\n",
      "24    TESTQiOOCBiXNIQkvu0F5sKqZQFEPtLe  2020-08-26       12         1   \n",
      "25    TESTQiOOCBiXNIQkvu0F5sKqZQFEPtLe  2020-08-04       21         1   \n",
      "47    TESTMvMKBzJzvY3mHQTHyWDbAwEpIj5p  2020-09-10       82         1   \n",
      "51    TEST6tQBf6gzmItGIKByFQ1BmSbvdCbw  2020-08-26       21         1   \n",
      "52    TESTyZHKPGwho9gxjz1hZhqpW8xDfPKQ  2020-04-10       21         1   \n",
      "...                                ...         ...      ...       ...   \n",
      "9967  TESTJnwivGtsYbmjBjCGaBT1Xaa5TrpR  1801-01-01       11         1   \n",
      "9968  TESTJnwivGtsYbmjBjCGaBT1Xaa5TrpR  2020-04-03       21         1   \n",
      "9969  TESTJnwivGtsYbmjBjCGaBT1Xaa5TrpR  2020-03-29       28         1   \n",
      "9970  TESTJnwivGtsYbmjBjCGaBT1Xaa5TrpR  2020-12-03       21         1   \n",
      "9971  TESTJnwivGtsYbmjBjCGaBT1Xaa5TrpR  2020-10-21       11         1   \n",
      "\n",
      "      ADMINCATST  ADMISORC  ... ALCBRDDIAG  SITEDIST SITEDIST_FLAG PROVDIST  \\\n",
      "24           NaN        19  ...        I10     11.16           5.0     1.16   \n",
      "25           NaN        19  ...        I48      5.11           5.0    16.65   \n",
      "47           NaN        19  ...        NaN      9.68           5.0     1.58   \n",
      "51           NaN        19  ...        NaN      5.80           5.0     6.27   \n",
      "52           NaN        19  ...        NaN      6.41           5.0    11.78   \n",
      "...          ...       ...  ...        ...       ...           ...      ...   \n",
      "9967         NaN        19  ...        NaN      5.51           5.0    39.88   \n",
      "9968         NaN        19  ...        NaN      2.99           5.0     0.96   \n",
      "9969         NaN        19  ...        NaN     80.42           5.0    14.32   \n",
      "9970         NaN        19  ...        K70       NaN           5.0    13.18   \n",
      "9971         NaN        19  ...        I10     19.00           5.0    13.27   \n",
      "\n",
      "     PROVDIST_FLAG HRG40 HRGLATE35 NER_GP_PRACTICE NER_RESIDENCE NER_TREATMENT  \n",
      "24             3.0   NaN       NaN             QM7           QRL           QUA  \n",
      "25             3.0   NaN       NaN             QWE           QMM           QJK  \n",
      "47             3.0   NaN       NaN             QHM           QYG           QWU  \n",
      "51             3.0   NaN       NaN             QMJ           QUE           QPM  \n",
      "52             3.0   NaN       NaN             QU9           QOQ           QOQ  \n",
      "...            ...   ...       ...             ...           ...           ...  \n",
      "9967           5.0   NaN       NaN             QWE           QOX           QOP  \n",
      "9968           3.0   NaN       NaN             QUA           QJK           QJ2  \n",
      "9969           3.0   NaN       NaN             QNX           QJG           QXU  \n",
      "9970           3.0   NaN       NaN             QYG           QKK           QMM  \n",
      "9971           3.0   NaN       NaN             QJM           QUY           QRV  \n",
      "\n",
      "[1495 rows x 193 columns]\n"
     ]
    },
    {
     "name": "stderr",
     "output_type": "stream",
     "text": [
      "C:\\Users\\KEQU2\\AppData\\Local\\Temp/ipykernel_27316/4209051780.py:1: DtypeWarning: Columns (117,142,176) have mixed types. Specify dtype option on import or set low_memory=False.\n",
      "  hes_data = pd.read_csv('artificial_hes_apc_2021.csv')\n"
     ]
    }
   ],
   "source": [
    "hes_data = pd.read_csv('artificial_hes_apc_2021.csv')\n",
    "\n",
    "binary_filter_age = hes_data['STARTAGE_CALC'] < 18\n",
    "\n",
    "filtered_age = hes_data[binary_filter_age]\n",
    "\n",
    "print(filtered_age)"
   ]
  },
  {
   "cell_type": "code",
   "execution_count": 13,
   "id": "12fc27b1",
   "metadata": {},
   "outputs": [
    {
     "name": "stdout",
     "output_type": "stream",
     "text": [
      "   FYEAR  PARTYEAR        EPIKEY         AEKEY  \\\n",
      "7   2021    202099  111441373799  692643565686   \n",
      "\n",
      "                       PSEUDO_HESID    ADMIDATE ADMIMETH  ADMINCAT  \\\n",
      "7  TESTW5Bs40ne05VLS6bK4DmW5dWkwxUz  2020-05-07       13         1   \n",
      "\n",
      "   ADMINCATST  ADMISORC  ... ALCBRDDIAG  SITEDIST SITEDIST_FLAG PROVDIST  \\\n",
      "7         NaN        19  ...        J18     14.57           5.0    27.96   \n",
      "\n",
      "  PROVDIST_FLAG HRG40 HRGLATE35 NER_GP_PRACTICE NER_RESIDENCE NER_TREATMENT  \n",
      "7           3.0   NaN       NaN             QHM           QOQ           QE1  \n",
      "\n",
      "[1 rows x 193 columns]\n"
     ]
    },
    {
     "name": "stderr",
     "output_type": "stream",
     "text": [
      "C:\\Users\\KEQU2\\AppData\\Local\\Temp/ipykernel_27316/312147687.py:1: DtypeWarning: Columns (117,142,176) have mixed types. Specify dtype option on import or set low_memory=False.\n",
      "  hes_data = pd.read_csv('artificial_hes_apc_2021.csv')\n"
     ]
    }
   ],
   "source": [
    "hes_data = pd.read_csv('artificial_hes_apc_2021.csv')\n",
    "\n",
    "binary_filter_letter = hes_data['DIAG_4_01'] == 'D610'\n",
    "\n",
    "filtered_icd10 = hes_data[binary_filter_letter]\n",
    "\n",
    "print(filtered_icd10)"
   ]
  },
  {
   "cell_type": "code",
   "execution_count": 16,
   "id": "7fa580e6",
   "metadata": {},
   "outputs": [
    {
     "name": "stdout",
     "output_type": "stream",
     "text": [
      "      FYEAR  PARTYEAR        EPIKEY         AEKEY  \\\n",
      "7      2021    202099  111441373799  692643565686   \n",
      "21     2021    202099  227233567307  121344781552   \n",
      "24     2021    202099  585737430021  353207117498   \n",
      "43     2021    202099  417127676389  479659222454   \n",
      "122    2021    202099  141775264673  872267908764   \n",
      "...     ...       ...           ...           ...   \n",
      "9907   2021    202099  300719605262  356910754138   \n",
      "9956   2021    202099  128206257285  311321985254   \n",
      "9962   2021    202099  225734151092  856145211723   \n",
      "9970   2021    202099  362179904946  380855611607   \n",
      "9977   2021    202099  533342994234  628721668961   \n",
      "\n",
      "                          PSEUDO_HESID    ADMIDATE ADMIMETH  ADMINCAT  \\\n",
      "7     TESTW5Bs40ne05VLS6bK4DmW5dWkwxUz  2020-05-07       13         1   \n",
      "21    TEST7wuMuOT92vsOeleNHOWFLbQ0Qso5  2020-06-26       22         1   \n",
      "24    TESTQiOOCBiXNIQkvu0F5sKqZQFEPtLe  2020-08-26       12         1   \n",
      "43    TESTlg9omHDxhNl9NSWErbsn0c4IRXPf  2020-04-02       31         1   \n",
      "122   TESTLD0QGkL7D8nwCwJmJPd2LEEVK5YL  2020-10-10       11         1   \n",
      "...                                ...         ...      ...       ...   \n",
      "9907  TESTV94bvtbs1YapGdaBVSw1QWvuNqlk  1801-01-01       11         1   \n",
      "9956  TEST4bkcF2PpdgcOzvEAhJUehYHU8TwM  2020-04-29       13         1   \n",
      "9962  TESTJnwivGtsYbmjBjCGaBT1Xaa5TrpR  2020-06-26       21         1   \n",
      "9970  TESTJnwivGtsYbmjBjCGaBT1Xaa5TrpR  2020-12-03       21         1   \n",
      "9977  TESTFPGRbE1x99rduDcl9aLzDTOILMhC  2020-07-06       22         1   \n",
      "\n",
      "      ADMINCATST  ADMISORC  ... ALCBRDDIAG  SITEDIST SITEDIST_FLAG PROVDIST  \\\n",
      "7            NaN        19  ...        J18     14.57           5.0    27.96   \n",
      "21           NaN        19  ...        C50      3.58           5.0     2.02   \n",
      "24           NaN        19  ...        I10     11.16           5.0     1.16   \n",
      "43           NaN        19  ...        I13      7.01           5.0     7.19   \n",
      "122          NaN        19  ...        NaN     44.78           5.0    19.16   \n",
      "...          ...       ...  ...        ...       ...           ...      ...   \n",
      "9907         NaN        19  ...        NaN     27.22           5.0    30.61   \n",
      "9956         NaN        19  ...        K70      9.80           5.0     8.13   \n",
      "9962         NaN        19  ...        W01      6.40           5.0    21.83   \n",
      "9970         NaN        19  ...        K70       NaN           5.0    13.18   \n",
      "9977         NaN        19  ...        I10      7.06           5.0    10.96   \n",
      "\n",
      "     PROVDIST_FLAG HRG40 HRGLATE35 NER_GP_PRACTICE NER_RESIDENCE NER_TREATMENT  \n",
      "7              3.0   NaN       NaN             QHM           QOQ           QE1  \n",
      "21             3.0   NaN       NaN             QWO           QRL           QU9  \n",
      "24             3.0   NaN       NaN             QM7           QRL           QUA  \n",
      "43             3.0   NaN       NaN             QKS           QT1           QYG  \n",
      "122            3.0   NaN       NaN             QYG           QYG           QNC  \n",
      "...            ...   ...       ...             ...           ...           ...  \n",
      "9907           3.0   NaN       NaN             QWE           QYG           QE1  \n",
      "9956           3.0   NaN       NaN             QUY           QF7           QE1  \n",
      "9962           3.0   NaN       NaN             QKK           QRL           QE1  \n",
      "9970           3.0   NaN       NaN             QYG           QKK           QMM  \n",
      "9977           3.0   NaN       NaN             QVV             U           QHL  \n",
      "\n",
      "[406 rows x 193 columns]\n"
     ]
    },
    {
     "name": "stderr",
     "output_type": "stream",
     "text": [
      "C:\\Users\\KEQU2\\AppData\\Local\\Temp/ipykernel_27316/1244024174.py:1: DtypeWarning: Columns (117,142,176) have mixed types. Specify dtype option on import or set low_memory=False.\n",
      "  hes_data = pd.read_csv('artificial_hes_apc_2021.csv')\n"
     ]
    }
   ],
   "source": [
    "hes_data = pd.read_csv('artificial_hes_apc_2021.csv')\n",
    "\n",
    "binary_filter_letter = hes_data['DIAG_4_01'].str.contains('D')\n",
    "\n",
    "filtered_icd10 = hes_data[binary_filter_letter]\n",
    "\n",
    "print(filtered_icd10)"
   ]
  },
  {
   "cell_type": "code",
   "execution_count": 36,
   "id": "286fc243",
   "metadata": {},
   "outputs": [
    {
     "name": "stdout",
     "output_type": "stream",
     "text": [
      "      FYEAR  PARTYEAR        EPIKEY         AEKEY  \\\n",
      "0      2021    202099  406111899172  964210830588   \n",
      "3      2021    202099  682563308547  717571868364   \n",
      "4      2021    202099  253030371090  186017970650   \n",
      "5      2021    202099  219440373765  902500792971   \n",
      "8      2021    202099  498876903032  335480124698   \n",
      "...     ...       ...           ...           ...   \n",
      "9993   2021    202099  737710178517  425977507307   \n",
      "9994   2021    202099  265013085691   70782547706   \n",
      "9996   2021    202099  795375465237  535907087711   \n",
      "9998   2021    202099   96753259722   91456566017   \n",
      "9999   2021    202099  109902260011  797354734157   \n",
      "\n",
      "                          PSEUDO_HESID   ADMIDATE ADMIMETH  ADMINCAT  \\\n",
      "0     TESTiJLlLWNNzwDWQwc1km6K55HsW0xS 2020-06-16       21         1   \n",
      "3     TESTiJLlLWNNzwDWQwc1km6K55HsW0xS 2020-06-23       21         1   \n",
      "4     TESTiJLlLWNNzwDWQwc1km6K55HsW0xS 2020-09-10       11         1   \n",
      "5     TEST2bGQUKgQbz5W9YyAQfCqg6evVEPW 2020-10-07       12         1   \n",
      "8     TESTW5Bs40ne05VLS6bK4DmW5dWkwxUz 2020-09-22       12         1   \n",
      "...                                ...        ...      ...       ...   \n",
      "9993  TESTHSRfpqTCvZJjGsrpY5q08degepYG 2020-06-23       13         1   \n",
      "9994  TESTYnttwtmmXLmNhCG5v9N7RRddstI4 2020-11-05       11         1   \n",
      "9996  TESTKkdJB5jR6VhKU1J5aVlHB4SoY0xM 2020-06-17       21         1   \n",
      "9998  TESTuncS1JznvYmnhP1DhMNBzxkI7fKy 2020-07-04       21         1   \n",
      "9999  TESTibBbbcVvyk6Aa2kdWkny7WelxWb7 2020-08-04       21         1   \n",
      "\n",
      "      ADMINCATST  ADMISORC  ... ALCBRDDIAG  SITEDIST SITEDIST_FLAG PROVDIST  \\\n",
      "0            NaN        19  ...        I48      2.38           5.0    20.96   \n",
      "3            NaN        19  ...        W18     19.35           5.0     6.80   \n",
      "4            NaN        19  ...        NaN      5.41           5.0    28.28   \n",
      "5            NaN        19  ...        I48      2.78           5.0    44.24   \n",
      "8            NaN        19  ...        Y49      2.87           5.0    10.99   \n",
      "...          ...       ...  ...        ...       ...           ...      ...   \n",
      "9993         NaN        19  ...       K860     11.36           5.0    10.34   \n",
      "9994         NaN        19  ...        J18      2.00           5.0     3.56   \n",
      "9996         NaN        51  ...        NaN      3.93           5.0     3.71   \n",
      "9998         NaN        19  ...        NaN      4.18           5.0     6.34   \n",
      "9999         NaN        51  ...        I10     18.04           5.0    11.73   \n",
      "\n",
      "     PROVDIST_FLAG HRG40 HRGLATE35 NER_GP_PRACTICE NER_RESIDENCE NER_TREATMENT  \n",
      "0              3.0   NaN       NaN             QJK           QOP           QHM  \n",
      "3              3.0   NaN       NaN             QHL           QK1           QU9  \n",
      "4              3.0   NaN       NaN             QU9           QWU           QE1  \n",
      "5              3.0   NaN       NaN             QNC           QH8           QSL  \n",
      "8              3.0   NaN       NaN             QHL           Q99           QUE  \n",
      "...            ...   ...       ...             ...           ...           ...  \n",
      "9993           5.0   NaN       NaN             QHM           QMM           QMJ  \n",
      "9994           3.0   NaN       NaN             QMF           QOQ           QHM  \n",
      "9996           3.0   NaN       NaN             QYG           QHM           QHM  \n",
      "9998           3.0   NaN       NaN             QUE           QH8           QVV  \n",
      "9999           3.0   NaN       NaN             QNX           QHM           QE1  \n",
      "\n",
      "[4855 rows x 193 columns]\n"
     ]
    },
    {
     "name": "stderr",
     "output_type": "stream",
     "text": [
      "C:\\Users\\KEQU2\\AppData\\Local\\Temp/ipykernel_27316/3381680.py:1: DtypeWarning: Columns (117,142,176) have mixed types. Specify dtype option on import or set low_memory=False.\n",
      "  hes_data = pd.read_csv('artificial_hes_apc_2021.csv')\n"
     ]
    }
   ],
   "source": [
    "hes_data = pd.read_csv('artificial_hes_apc_2021.csv')\n",
    "\n",
    "date_looking_col = hes_data['ADMIDATE']\n",
    "\n",
    "#Create a date\n",
    "selected_date = datetime.datetime(2020, 6, 7)\n",
    "\n",
    "#Coverting column to a date\n",
    "hes_data['ADMIDATE'] = pd.to_datetime(date_looking_col, format=\"%Y/%m/%d\")\n",
    "\n",
    "filter_dates_indicator = hes_data['ADMIDATE'] > selected_date\n",
    "\n",
    "filtered_dates = hes_data[filter_dates_indicator]\n",
    "\n",
    "print(filtered_dates)"
   ]
  },
  {
   "cell_type": "code",
   "execution_count": 42,
   "id": "e940ee36",
   "metadata": {
    "scrolled": false
   },
   "outputs": [
    {
     "name": "stdout",
     "output_type": "stream",
     "text": [
      "      FYEAR  PARTYEAR        EPIKEY         AEKEY  \\\n",
      "0      2021    202099  406111899172  964210830588   \n",
      "3      2021    202099  682563308547  717571868364   \n",
      "4      2021    202099  253030371090  186017970650   \n",
      "5      2021    202099  219440373765  902500792971   \n",
      "8      2021    202099  498876903032  335480124698   \n",
      "...     ...       ...           ...           ...   \n",
      "9993   2021    202099  737710178517  425977507307   \n",
      "9994   2021    202099  265013085691   70782547706   \n",
      "9996   2021    202099  795375465237  535907087711   \n",
      "9998   2021    202099   96753259722   91456566017   \n",
      "9999   2021    202099  109902260011  797354734157   \n",
      "\n",
      "                          PSEUDO_HESID   ADMIDATE ADMIMETH  ADMINCAT  \\\n",
      "0     TESTiJLlLWNNzwDWQwc1km6K55HsW0xS 2020-06-16       21         1   \n",
      "3     TESTiJLlLWNNzwDWQwc1km6K55HsW0xS 2020-06-23       21         1   \n",
      "4     TESTiJLlLWNNzwDWQwc1km6K55HsW0xS 2020-09-10       11         1   \n",
      "5     TEST2bGQUKgQbz5W9YyAQfCqg6evVEPW 2020-10-07       12         1   \n",
      "8     TESTW5Bs40ne05VLS6bK4DmW5dWkwxUz 2020-09-22       12         1   \n",
      "...                                ...        ...      ...       ...   \n",
      "9993  TESTHSRfpqTCvZJjGsrpY5q08degepYG 2020-06-23       13         1   \n",
      "9994  TESTYnttwtmmXLmNhCG5v9N7RRddstI4 2020-11-05       11         1   \n",
      "9996  TESTKkdJB5jR6VhKU1J5aVlHB4SoY0xM 2020-06-17       21         1   \n",
      "9998  TESTuncS1JznvYmnhP1DhMNBzxkI7fKy 2020-07-04       21         1   \n",
      "9999  TESTibBbbcVvyk6Aa2kdWkny7WelxWb7 2020-08-04       21         1   \n",
      "\n",
      "      ADMINCATST  ADMISORC  ... ALCBRDDIAG  SITEDIST SITEDIST_FLAG PROVDIST  \\\n",
      "0            NaN        19  ...        I48      2.38           5.0    20.96   \n",
      "3            NaN        19  ...        W18     19.35           5.0     6.80   \n",
      "4            NaN        19  ...        NaN      5.41           5.0    28.28   \n",
      "5            NaN        19  ...        I48      2.78           5.0    44.24   \n",
      "8            NaN        19  ...        Y49      2.87           5.0    10.99   \n",
      "...          ...       ...  ...        ...       ...           ...      ...   \n",
      "9993         NaN        19  ...       K860     11.36           5.0    10.34   \n",
      "9994         NaN        19  ...        J18      2.00           5.0     3.56   \n",
      "9996         NaN        51  ...        NaN      3.93           5.0     3.71   \n",
      "9998         NaN        19  ...        NaN      4.18           5.0     6.34   \n",
      "9999         NaN        51  ...        I10     18.04           5.0    11.73   \n",
      "\n",
      "     PROVDIST_FLAG HRG40 HRGLATE35 NER_GP_PRACTICE NER_RESIDENCE NER_TREATMENT  \n",
      "0              3.0   NaN       NaN             QJK           QOP           QHM  \n",
      "3              3.0   NaN       NaN             QHL           QK1           QU9  \n",
      "4              3.0   NaN       NaN             QU9           QWU           QE1  \n",
      "5              3.0   NaN       NaN             QNC           QH8           QSL  \n",
      "8              3.0   NaN       NaN             QHL           Q99           QUE  \n",
      "...            ...   ...       ...             ...           ...           ...  \n",
      "9993           5.0   NaN       NaN             QHM           QMM           QMJ  \n",
      "9994           3.0   NaN       NaN             QMF           QOQ           QHM  \n",
      "9996           3.0   NaN       NaN             QYG           QHM           QHM  \n",
      "9998           3.0   NaN       NaN             QUE           QH8           QVV  \n",
      "9999           3.0   NaN       NaN             QNX           QHM           QE1  \n",
      "\n",
      "[4855 rows x 193 columns]\n"
     ]
    },
    {
     "name": "stderr",
     "output_type": "stream",
     "text": [
      "C:\\Users\\KEQU2\\AppData\\Local\\Temp/ipykernel_27316/3850688586.py:1: DtypeWarning: Columns (117,142,176) have mixed types. Specify dtype option on import or set low_memory=False.\n",
      "  hes_data = pd.read_csv('artificial_hes_apc_2021.csv')\n"
     ]
    }
   ],
   "source": [
    "hes_data = pd.read_csv('artificial_hes_apc_2021.csv')\n",
    "\n",
    "#Coverting column to a date\n",
    "hes_data['ADMIDATE'] = pd.to_datetime(hes_data['ADMIDATE'], format=\"%Y/%m/%d\")\n",
    "\n",
    "filter_month_indicator = hes_data['ADMIDATE'].dt.month == 6\n",
    "\n",
    "filtered_dates = hes_data[filter_dates_indicator]\n",
    "\n",
    "print(filtered_dates)"
   ]
  },
  {
   "cell_type": "code",
   "execution_count": 39,
   "id": "5e1434ed",
   "metadata": {},
   "outputs": [
    {
     "name": "stdout",
     "output_type": "stream",
     "text": [
      "      FYEAR  PARTYEAR        EPIKEY         AEKEY  \\\n",
      "7      2021    202099  111441373799  692643565686   \n",
      "21     2021    202099  227233567307  121344781552   \n",
      "24     2021    202099  585737430021  353207117498   \n",
      "43     2021    202099  417127676389  479659222454   \n",
      "122    2021    202099  141775264673  872267908764   \n",
      "...     ...       ...           ...           ...   \n",
      "9910   2021    202099  739776651216  674001697382   \n",
      "9956   2021    202099  128206257285  311321985254   \n",
      "9962   2021    202099  225734151092  856145211723   \n",
      "9970   2021    202099  362179904946  380855611607   \n",
      "9977   2021    202099  533342994234  628721668961   \n",
      "\n",
      "                          PSEUDO_HESID    ADMIDATE ADMIMETH  ADMINCAT  \\\n",
      "7     TESTW5Bs40ne05VLS6bK4DmW5dWkwxUz  2020-05-07       13         1   \n",
      "21    TEST7wuMuOT92vsOeleNHOWFLbQ0Qso5  2020-06-26       22         1   \n",
      "24    TESTQiOOCBiXNIQkvu0F5sKqZQFEPtLe  2020-08-26       12         1   \n",
      "43    TESTlg9omHDxhNl9NSWErbsn0c4IRXPf  2020-04-02       31         1   \n",
      "122   TESTLD0QGkL7D8nwCwJmJPd2LEEVK5YL  2020-10-10       11         1   \n",
      "...                                ...         ...      ...       ...   \n",
      "9910  TESTV94bvtbs1YapGdaBVSw1QWvuNqlk  2020-05-28       21         1   \n",
      "9956  TEST4bkcF2PpdgcOzvEAhJUehYHU8TwM  2020-04-29       13         1   \n",
      "9962  TESTJnwivGtsYbmjBjCGaBT1Xaa5TrpR  2020-06-26       21         1   \n",
      "9970  TESTJnwivGtsYbmjBjCGaBT1Xaa5TrpR  2020-12-03       21         1   \n",
      "9977  TESTFPGRbE1x99rduDcl9aLzDTOILMhC  2020-07-06       22         1   \n",
      "\n",
      "      ADMINCATST  ADMISORC  ... ALCBRDDIAG  SITEDIST SITEDIST_FLAG PROVDIST  \\\n",
      "7            NaN        19  ...        J18     14.57           5.0    27.96   \n",
      "21           NaN        19  ...        C50      3.58           5.0     2.02   \n",
      "24           NaN        19  ...        I10     11.16           5.0     1.16   \n",
      "43           NaN        19  ...        I13      7.01           5.0     7.19   \n",
      "122          NaN        19  ...        NaN     44.78           5.0    19.16   \n",
      "...          ...       ...  ...        ...       ...           ...      ...   \n",
      "9910         NaN        19  ...        C15     56.60           5.0    15.51   \n",
      "9956         NaN        19  ...        K70      9.80           5.0     8.13   \n",
      "9962         NaN        19  ...        W01      6.40           5.0    21.83   \n",
      "9970         NaN        19  ...        K70       NaN           5.0    13.18   \n",
      "9977         NaN        19  ...        I10      7.06           5.0    10.96   \n",
      "\n",
      "     PROVDIST_FLAG HRG40 HRGLATE35 NER_GP_PRACTICE NER_RESIDENCE NER_TREATMENT  \n",
      "7              3.0   NaN       NaN             QHM           QOQ           QE1  \n",
      "21             3.0   NaN       NaN             QWO           QRL           QU9  \n",
      "24             3.0   NaN       NaN             QM7           QRL           QUA  \n",
      "43             3.0   NaN       NaN             QKS           QT1           QYG  \n",
      "122            3.0   NaN       NaN             QYG           QYG           QNC  \n",
      "...            ...   ...       ...             ...           ...           ...  \n",
      "9910           3.0   NaN       NaN             QWO           QOQ           QJ2  \n",
      "9956           3.0   NaN       NaN             QUY           QF7           QE1  \n",
      "9962           3.0   NaN       NaN             QKK           QRL           QE1  \n",
      "9970           3.0   NaN       NaN             QYG           QKK           QMM  \n",
      "9977           3.0   NaN       NaN             QVV             U           QHL  \n",
      "\n",
      "[625 rows x 193 columns]\n"
     ]
    },
    {
     "name": "stderr",
     "output_type": "stream",
     "text": [
      "C:\\Users\\KEQU2\\AppData\\Local\\Temp/ipykernel_27316/126900212.py:1: DtypeWarning: Columns (117,142,176) have mixed types. Specify dtype option on import or set low_memory=False.\n",
      "  hes_data = pd.read_csv('artificial_hes_apc_2021.csv')\n"
     ]
    }
   ],
   "source": [
    "hes_data = pd.read_csv('artificial_hes_apc_2021.csv')\n",
    "\n",
    "binary_filter_letter_D = hes_data['DIAG_4_01'].str.contains('D')\n",
    "\n",
    "binary_filter_letter_E = hes_data['DIAG_4_01'].str.contains('E')\n",
    "\n",
    "indicator_either_D_or_E = binary_filter_letter_D | binary_filter_letter_E\n",
    "\n",
    "filtered_icd10 = hes_data[indicator_either_D_or_E]\n",
    "\n",
    "print(filtered_icd10)"
   ]
  },
  {
   "cell_type": "code",
   "execution_count": 50,
   "id": "27b9f42c",
   "metadata": {
    "scrolled": true
   },
   "outputs": [
    {
     "name": "stdout",
     "output_type": "stream",
     "text": [
      "|    |   FYEAR |   PARTYEAR |       EPIKEY |        AEKEY | PSEUDO_HESID                     | ADMIDATE   | ADMIMETH   |   ADMINCAT |   ADMINCATST |   ADMISORC | ALCDIAG_4   |   ALCFRAC | AT_GP_PRACTICE   | AT_RESIDENCE   | AT_TREATMENT   | CANNET   | CANREG   | CAUSE_3   | CAUSE_4   | CCG_GP_PRACTICE   | CCG_RESIDENCE   | CCG_RESPONSIBILITY   |   CCG_RESPONSIBILITY_ORIGIN | CCG_TREATMENT   |   CCG_TREATMENT_ORIGIN |   CLASSPAT | CR_GP_PRACTICE   | CR_RESIDENCE   | CR_TREATMENT   | DIAG_3_01   | DIAG_3_02   | DIAG_3_03   | DIAG_3_04   | DIAG_3_05   | DIAG_3_06   | DIAG_3_07   | DIAG_3_08   | DIAG_3_09   | DIAG_3_10   | DIAG_3_11   | DIAG_3_12   | DIAG_3_13   | DIAG_3_14   |   DIAG_3_15 | DIAG_3_16   | DIAG_3_17   |   DIAG_3_18 | DIAG_3_19   |   DIAG_3_20 | DIAG_3_CONCAT                               | DIAG_4_01   | DIAG_4_02   | DIAG_4_03   | DIAG_4_04   | DIAG_4_05   | DIAG_4_06   | DIAG_4_07   | DIAG_4_08   | DIAG_4_09   | DIAG_4_10   | DIAG_4_11   | DIAG_4_12   | DIAG_4_13   | DIAG_4_14   |   DIAG_4_15 | DIAG_4_16   | DIAG_4_17   |   DIAG_4_18 | DIAG_4_19   |   DIAG_4_20 | DIAG_4_CONCAT                                          |   DIAG_COUNT | DISDATE    |   DISDEST |   DISMETH | ELECDATE   |   ELECDUR |   ELECDUR_CALC |   EPIDUR | EPIEND     |   EPIORDER | EPISTART   |   EPISTAT |   EPITYPE | ETHNOS   |   FAE |   FAE_EMERGENCY |   FCE |   FDE | GORTREAT   | GPPRAC   |   MAINSPEF |   MYDOB |   NEODUR | OPERTN_3_01   | OPERTN_3_02   | OPERTN_3_03   | OPERTN_3_04   | OPERTN_3_05   |   OPERTN_3_06 |   OPERTN_3_07 |   OPERTN_3_08 |   OPERTN_3_09 |   OPERTN_3_10 |   OPERTN_3_11 |   OPERTN_3_12 |   OPERTN_3_13 |   OPERTN_3_14 |   OPERTN_3_15 |   OPERTN_3_16 |   OPERTN_3_17 |   OPERTN_3_18 |   OPERTN_3_19 |   OPERTN_3_20 |   OPERTN_3_21 |   OPERTN_3_22 |   OPERTN_3_23 |   OPERTN_3_24 | OPERTN_3_CONCAT   | OPERTN_4_01   | OPERTN_4_02   | OPERTN_4_03   | OPERTN_4_04   | OPERTN_4_05   |   OPERTN_4_06 |   OPERTN_4_07 |   OPERTN_4_08 |   OPERTN_4_09 |   OPERTN_4_10 |   OPERTN_4_11 |   OPERTN_4_12 |   OPERTN_4_13 |   OPERTN_4_14 |   OPERTN_4_15 |   OPERTN_4_16 |   OPERTN_4_17 |   OPERTN_4_18 |   OPERTN_4_19 |   OPERTN_4_20 |   OPERTN_4_21 |   OPERTN_4_22 |   OPERTN_4_23 |   OPERTN_4_24 | OPERTN_4_CONCAT     |   OPERTN_COUNT | PCON   | PCON_ONS   | PCTCODE_HIS   |   PCTORIG_HIS | PCTTREAT   | PROCODE3   | PROCODE5   | PROCODET   | PURCODE   |   RANK_ORDER |   RESCTY | RESCTY_ONS   | RESGOR   | RESGOR_ONS   | RESLADST   | RESLADST_ONS   | RESPCT_HIS   | RESSTHA_HIS   |   SEX | SITETRET   | LSOA01    | MSOA01    |   SPELBGIN |   SPELDUR |   SPELDUR_CALC | SPELEND   |   STARTAGE |   STARTAGE_CALC | STHATRET   | SUSHRG   |       SUSRECID |   TRETSPEF | LSOA11    | MSOA11    |   WAITLIST |   ALCNRWFRAC | ALCNRWDIAG   |   ALCBRDFRAC | ALCBRDDIAG   |   SITEDIST |   SITEDIST_FLAG |   PROVDIST |   PROVDIST_FLAG |   HRG40 |   HRGLATE35 | NER_GP_PRACTICE   | NER_RESIDENCE   | NER_TREATMENT   |\n",
      "|---:|--------:|-----------:|-------------:|-------------:|:---------------------------------|:-----------|:-----------|-----------:|-------------:|-----------:|:------------|----------:|:-----------------|:---------------|:---------------|:---------|:---------|:----------|:----------|:------------------|:----------------|:---------------------|----------------------------:|:----------------|-----------------------:|-----------:|:-----------------|:---------------|:---------------|:------------|:------------|:------------|:------------|:------------|:------------|:------------|:------------|:------------|:------------|:------------|:------------|:------------|:------------|------------:|:------------|:------------|------------:|:------------|------------:|:--------------------------------------------|:------------|:------------|:------------|:------------|:------------|:------------|:------------|:------------|:------------|:------------|:------------|:------------|:------------|:------------|------------:|:------------|:------------|------------:|:------------|------------:|:-------------------------------------------------------|-------------:|:-----------|----------:|----------:|:-----------|----------:|---------------:|---------:|:-----------|-----------:|:-----------|----------:|----------:|:---------|------:|----------------:|------:|------:|:-----------|:---------|-----------:|--------:|---------:|:--------------|:--------------|:--------------|:--------------|:--------------|--------------:|--------------:|--------------:|--------------:|--------------:|--------------:|--------------:|--------------:|--------------:|--------------:|--------------:|--------------:|--------------:|--------------:|--------------:|--------------:|--------------:|--------------:|--------------:|:------------------|:--------------|:--------------|:--------------|:--------------|:--------------|--------------:|--------------:|--------------:|--------------:|--------------:|--------------:|--------------:|--------------:|--------------:|--------------:|--------------:|--------------:|--------------:|--------------:|--------------:|--------------:|--------------:|--------------:|--------------:|:--------------------|---------------:|:-------|:-----------|:--------------|--------------:|:-----------|:-----------|:-----------|:-----------|:----------|-------------:|---------:|:-------------|:---------|:-------------|:-----------|:---------------|:-------------|:--------------|------:|:-----------|:----------|:----------|-----------:|----------:|---------------:|:----------|-----------:|----------------:|:-----------|:---------|---------------:|-----------:|:----------|:----------|-----------:|-------------:|:-------------|-------------:|:-------------|-----------:|----------------:|-----------:|----------------:|--------:|------------:|:------------------|:----------------|:----------------|\n",
      "|  0 |    2021 |     202099 | 406111899172 | 964210830588 | TESTiJLlLWNNzwDWQwc1km6K55HsW0xS | 2020-06-16 | 21         |          1 |          nan |         19 | nan         |      0    | Q49              | Q71            | Q56            | N29      | Y0201    | nan       | Y95X      | 84H               | 92G             | 05A                  |                           1 | 97R             |                      1 |          3 | Y62              | Y59            | Y56            | R41         | E28         | C78         | X62         | nan         | nan         | K44         | nan         | nan         | nan         | nan         | nan         | nan         | nan         |         nan | nan         | nan         |         nan | nan         |         nan | R41,E28,C78,X62,K44                         | R410        | E282        | C780        | X620        | nan         | nan         | K449        | nan         | nan         | nan         | nan         | nan         | nan         | nan         |         nan | nan         | nan         |         nan | nan         |         nan | R410,E282,C780,X620,K449                               |            5 | 2020-11-10 |        98 |         8 | 2020-06-16 |        87 |             10 |        0 | 2020-06-16 |          1 | 2020-06-16 |         3 |         1 | A        |     0 |               0 |     1 |     1 | E          | J82646   |        110 |   41966 |      nan | -             | A55           | nan           | nan           | nan           |           nan |           nan |           nan |           nan |           nan |           nan |           nan |           nan |           nan |           nan |           nan |           nan |           nan |           nan |           nan |           nan |           nan |           nan |           nan | -  ,A55           | -             | A559          | nan           | nan           | nan           |           nan |           nan |           nan |           nan |           nan |           nan |           nan |           nan |           nan |           nan |           nan |           nan |           nan |           nan |           nan |           nan |           nan |           nan |           nan | -   ,A559           |              1 | C95    | E14000695  | 5QF           |             1 | 5MD        | RK9        | RGP00      | R0A        | 15N00     |            1 |       00 | E99999999    | G        | E12000008    | 38UE       | E06000042      | 5P5          | Q39           |     1 | RM346      | E01003617 | E02003263 |          2 |         1 |              8 | Y         |         55 |         54.7014 | Q39        | BZ34C    | 58014155730769 |        424 | E01007002 | E02002407 |          0 |    0         | nan          |     0        | I48          |       2.38 |               5 |      20.96 |               3 |     nan |         nan | QJK               | QOP             | QHM             |\n",
      "|  1 |    2021 |     202099 | 255765609232 | 181876493987 | TESTiJLlLWNNzwDWQwc1km6K55HsW0xS | 2020-05-28 | 21         |          1 |          nan |         19 | I10X        |      0    | Q51              | Q37            | Y              | N22      | Y0201    | nan       | nan       | 13T               | 05Y             | 08G                  |                           1 | 27D             |                      1 |          1 | Y60              | Y56            | Y59            | I21         | Z03         | I10         | N17         | J43         | nan         | nan         | nan         | nan         | nan         | nan         | nan         | nan         | nan         |         nan | nan         | R54         |         nan | nan         |         nan | I21,Z03,I10,N17,J43,R54                     | I214        | Z038        | I10X        | N179        | J439        | nan         | nan         | nan         | nan         | nan         | nan         | nan         | nan         | nan         |         nan | nan         | R54X        |         nan | nan         |         nan | I214,Z038,I10X,N179,J439,R54X                          |            6 | nan        |        19 |         1 | 2020-05-28 |         2 |              4 |        1 | 2020-09-28 |          1 | 2020-05-28 |         3 |         1 | A        |     1 |               0 |     1 |     1 | H          | J82039   |        300 |   41966 |      nan | W24           | nan           | nan           | nan           | nan           |           nan |           nan |           nan |           nan |           nan |           nan |           nan |           nan |           nan |           nan |           nan |           nan |           nan |           nan |           nan |           nan |           nan |           nan |           nan | W24               | W246          | nan           | nan           | nan           | nan           |           nan |           nan |           nan |           nan |           nan |           nan |           nan |           nan |           nan |           nan |           nan |           nan |           nan |           nan |           nan |           nan |           nan |           nan |           nan | W246                |              1 | A20    | E14000996  | 5PL           |             1 | 5NL        | RN5        | RHM00      | RXH        | 08E       |          nan |       18 | E99999999    | J        | E12000009    | 00HY       | E08000003      | 5AT          | Q33           |     1 | RLQ01      | E01024898 | E02004672 |          2 |         0 |              1 | Y         |         55 |         54.9452 | Q34        | NZ42A    | 48269450608855 |        300 | E01002933 | nan       |          0 |    0.0909804 | nan          |     1        | nan          |       7.47 |               5 |      88.71 |               3 |     nan |         nan | QT1               | QM7             | QNC             |\n",
      "|  2 |    2021 |     202099 | 731480873960 | 803179514887 | TESTiJLlLWNNzwDWQwc1km6K55HsW0xS | 1801-01-01 | 21         |          1 |          nan |         19 | nan         |      0.18 | Y                | Q70            | Q56            | N27      | Y0401    | nan       | nan       | 03W               | 15E             | 15M                  |                           1 | 93C             |                      1 |          1 | Y59              | Y58            | Y62            | A09         | E11         | nan         | nan         | C67         | H93         | nan         | nan         | Z92         | nan         | nan         | nan         | Z87         | nan         |         nan | nan         | nan         |         nan | nan         |         nan | A09,E11,C67,H93,Z92,Z87                     | A099        | E119        | nan         | nan         | C679        | H931        | nan         | nan         | Z926        | nan         | nan         | nan         | Z871        | nan         |         nan | nan         | nan         |         nan | nan         |         nan | A099,E119,C679,H931,Z926,Z871                          |            6 | 1801-01-01 |        19 |         1 | 1801-01-01 |         2 |             59 |        0 | 1801-01-01 |          1 | 1801-01-01 |         3 |         1 | A        |     1 |               1 |     1 |     1 | A          | C81090   |        410 |   41966 |      nan | C46           | Y53           | nan           | nan           | nan           |           nan |           nan |           nan |           nan |           nan |           nan |           nan |           nan |           nan |           nan |           nan |           nan |           nan |           nan |           nan |           nan |           nan |           nan |           nan | C46,Y53           | C468          | Y534          | nan           | nan           | nan           |           nan |           nan |           nan |           nan |           nan |           nan |           nan |           nan |           nan |           nan |           nan |           nan |           nan |           nan |           nan |           nan |           nan |           nan |           nan | C468,Y534           |              2 | C48    | E14000872  | 5PQ           |             1 | 5PT        | RX1        | RA200      | RVW        | 91Q       |          nan |       22 | E10000030    | D        | E12000005    | 47UF       | E07000140      | 5A3          | Q38           |     1 | RH801      | E01010005 | E02004245 |          2 |         0 |              7 | Y         |         54 |         54.2658 | Q31        | SB97Z    | 10706735967195 |        502 | E01014240 | E02005907 |          0 |    0         | J18          |     0        | nan          |       4.22 |               5 |      13.81 |               5 |     nan |         nan | QOP               | QF7             | QRL             |\n",
      "|  3 |    2021 |     202099 | 682563308547 | 717571868364 | TESTiJLlLWNNzwDWQwc1km6K55HsW0xS | 2020-06-23 | 21         |          1 |          nan |         19 | nan         |      0    | Y                | Q60            | Y              | N26      | Y0301    | nan       | nan       | 15N               | 05Y             | 06A                  |                           1 | 78H             |                      1 |          2 | Y61              | Y63            | Y60            | U07         | K29         | C78         | E87         | nan         | nan         | nan         | nan         | nan         | I10         | Z50         | nan         | nan         | nan         |         nan | nan         | nan         |         nan | nan         |         nan | U07,K29,C78,E87,I10,Z50                     | U071        | K297        | C787        | E877        | nan         | nan         | nan         | nan         | nan         | I10X        | Z501        | nan         | nan         | nan         |         nan | nan         | nan         |         nan | nan         |         nan | U071,K297,C787,E877,I10X,Z501                          |            6 | 2020-07-17 |        19 |         1 | 1801-01-01 |        46 |             16 |        2 | 2020-07-17 |          4 | 2020-07-17 |         3 |         1 | A        |     0 |               1 |     0 |     1 | B          | P82609   |        501 |   41966 |      nan | -             | X72           | nan           | Z94           | nan           |           nan |           nan |           nan |           nan |           nan |           nan |           nan |           nan |           nan |           nan |           nan |           nan |           nan |           nan |           nan |           nan |           nan |           nan |           nan | -  ,X72,Z94       | -             | X721          | nan           | Z942          | nan           |           nan |           nan |           nan |           nan |           nan |           nan |           nan |           nan |           nan |           nan |           nan |           nan |           nan |           nan |           nan |           nan |           nan |           nan |           nan | -   ,X721,Z942      |              2 | F34    | E14000869  | 5A7           |             1 | 5H8        | RXR        | R1F00      | RTX        | 91Q       |          nan |       00 | E99999999    | A        | E12000008    | 00AS       | E08000036      | 5K7          | Q35           |     1 | RTGFG      | E01001281 | E02001158 |          2 |         3 |              0 | Y         |         54 |         54.2658 | Q31        | EB08E    | 15696109869578 |        110 | E01007300 | E02003460 |          0 |    0         | nan          |     0.153979 | W18          |      19.35 |               5 |       6.8  |               3 |     nan |         nan | QHL               | QK1             | QU9             |\n",
      "|  4 |    2021 |     202099 | 253030371090 | 186017970650 | TESTiJLlLWNNzwDWQwc1km6K55HsW0xS | 2020-09-10 | 11         |          1 |          nan |         19 | nan         |      0    | Q56              | Q54            | Q60            | N35      | Y0801    | nan       | nan       | 27D               | 03W             | 36L                  |                           1 | 05W             |                      1 |          1 | Y59              | Y61            | Y62            | Z38         | G43         | G40         | B18         | I79         | nan         | nan         | nan         | Z96         | nan         | nan         | nan         | Z92         | nan         |         nan | I10         | nan         |         nan | nan         |         nan | Z38,G43,G40,B18,I79,Z96,Z92,I10             | Z380        | G439        | G409        | B182        | I792        | nan         | nan         | nan         | Z960        | nan         | nan         | nan         | Z921        | nan         |         nan | I10X        | nan         |         nan | nan         |         nan | Z380,G439,G409,B182,I792,Z960,Z921,I10X                |            8 | 2021-01-27 |        51 |         1 | 2020-08-28 |        27 |              2 |        0 | 2020-09-10 |          2 | 2020-09-10 |         3 |         1 | A        |     0 |               1 |     1 |     1 | B          | N81127   |        800 |   41966 |      nan | -             | Z27           | nan           | nan           | nan           |           nan |           nan |           nan |           nan |           nan |           nan |           nan |           nan |           nan |           nan |           nan |           nan |           nan |           nan |           nan |           nan |           nan |           nan |           nan | -  ,Z27           | -             | Z274          | nan           | nan           | nan           |           nan |           nan |           nan |           nan |           nan |           nan |           nan |           nan |           nan |           nan |           nan |           nan |           nan |           nan |           nan |           nan |           nan |           nan |           nan | -   ,Z274           |              1 | A10    | E14000693  | 5PQ           |             1 | 5C4        | RVY        | RBT00      | RN5-X      | 01K       |          nan |       18 | E99999999    | B        | E12000004    | 00CQ       | E08000022      | 5M8          | Q31           |     1 | RWDLA      | E01018760 | E02001243 |          2 |         6 |              1 | Y         |         55 |         54.9753 | Q35        | HE12C    | 43803598714800 |        340 | E01009732 | E02001958 |          1 |    0         | nan          |     0.121285 | nan          |       5.41 |               5 |      28.28 |               3 |     nan |         nan | QU9               | QWU             | QE1             |\n",
      "|  5 |    2021 |     202099 | 219440373765 | 902500792971 | TEST2bGQUKgQbz5W9YyAQfCqg6evVEPW | 2020-10-07 | 12         |          1 |          nan |         19 | nan         |      0    | Q69              | Q32            | Y              | N03      | Y1701    | nan       | nan       | 16C               | 72Q             | 91Q                  |                           1 | 11X             |                      1 |          1 | Y62              | Y60            | Y61            | C67         | Z11         | G30         | R79         | I50         | M51         | nan         | I10         | I48         | F41         | nan         | nan         | J45         | Z91         |         nan | nan         | nan         |         nan | nan         |         nan | C67,Z11,G30,R79,I50,M51,I10,I48,F41,J45,Z91 | C679        | Z115        | G309        | R798        | I501        | M511        | nan         | I10X        | I489        | F419        | nan         | nan         | J459        | Z910        |         nan | nan         | nan         |         nan | nan         |         nan | C679,Z115,G309,R798,I501,M511,I10X,I489,F419,J459,Z910 |           11 | 2020-10-07 |        19 |         1 | 1801-01-01 |        71 |            105 |        1 | 2020-10-07 |          1 | 2020-10-07 |         3 |         1 | K        |     1 |               0 |     1 |     0 | J          | N81123   |        800 |  101963 |      nan | X72           | nan           | nan           | nan           | nan           |           nan |           nan |           nan |           nan |           nan |           nan |           nan |           nan |           nan |           nan |           nan |           nan |           nan |           nan |           nan |           nan |           nan |           nan |           nan | X72               | X724          | nan           | nan           | nan           | nan           |           nan |           nan |           nan |           nan |           nan |           nan |           nan |           nan |           nan |           nan |           nan |           nan |           nan |           nan |           nan |           nan |           nan |           nan |           nan | X724                |              1 | D64    | E14000740  | 5J5           |             1 | 5QC        | RGT        | RXW00      | RTH        | 15C00     |          nan |       18 | E10000024    | H        | E12000007    | 40UC       | E06000035      | 5D7          | Q35           |     2 | RCX70      | E01027581 | E02004415 |          2 |         1 |              0 | Y         |         58 |         57.5041 | Q33        | AA30F    | 15126091823174 |        301 | E01014276 | E02001334 |          0 |    0.0194445 | nan          |     0        | I48          |       2.78 |               5 |      44.24 |               3 |     nan |         nan | QNC               | QH8             | QSL             |\n",
      "|  6 |    2021 |     202099 |  67537292947 | 332192348098 | TEST2bGQUKgQbz5W9YyAQfCqg6evVEPW | 2020-06-01 | 2D         |          1 |          nan |         19 | nan         |      0    | Q64              | Q39            | Y              | N24      | Y1701    | nan       | nan       | 02A               | 06F             | 93C                  |                           1 | 13T             |                      1 |          1 | Y59              | Y60            | Y63            | Z38         | nan         | E87         | R31         | I25         | R47         | nan         | nan         | F17         | nan         | nan         | nan         | nan         | nan         |         nan | nan         | nan         |         nan | F03         |         nan | Z38,E87,R31,I25,R47,F17,F03                 | Z380        | nan         | E872        | R31X        | I259        | R478        | nan         | nan         | F171        | nan         | nan         | nan         | nan         | nan         |         nan | nan         | nan         |         nan | F03X        |         nan | Z380,E872,R31X,I259,R478,F171,F03X                     |            7 | 2020-12-13 |        98 |         1 | 2020-06-01 |       224 |              3 |       10 | 2020-06-01 |          1 | 2020-06-01 |         3 |         1 | K        |     1 |               1 |     1 |     0 | J          | H81003   |        300 |  101963 |      nan | E03           | nan           | nan           | nan           | nan           |           nan |           nan |           nan |           nan |           nan |           nan |           nan |           nan |           nan |           nan |           nan |           nan |           nan |           nan |           nan |           nan |           nan |           nan |           nan | E03               | E032          | nan           | nan           | nan           | nan           |           nan |           nan |           nan |           nan |           nan |           nan |           nan |           nan |           nan |           nan |           nan |           nan |           nan |           nan |           nan |           nan |           nan |           nan |           nan | E032                |              1 | E52    | E14000804  | 5N2           |             1 | 5M7        | RCB        | R1H00      | RTE        | 13Q       |          nan |       00 | E99999999    | G        | E12000005    | 00AX       | E09000026      | 5PA          | Q32           |     2 | RCB55      | E01029656 | E02000311 |          2 |         0 |              0 | Y         |         57 |         56.9479 | Q35        | JA38B    |  2252623233955 |        800 | E01008866 | E02000211 |          0 |    0         | nan          |     0        | nan          |       6.01 |               5 |       1.66 |               3 |     nan |         nan | QJM               | QOP             | QUE             |\n",
      "|  7 |    2021 |     202099 | 111441373799 | 692643565686 | TESTW5Bs40ne05VLS6bK4DmW5dWkwxUz | 2020-05-07 | 13         |          1 |          nan |         19 | nan         |      0    | Y                | Q34            | Q52            | N35      | nan      | Y83       | nan       | 00P               | 00T             | 03N                  |                           1 | 26A             |                      1 |          3 | Y58              | Y61            | Y60            | D61         | K70         | G11         | I25         | R29         | R29         | nan         | K31         | nan         | nan         | Z86         | Z86         | Z90         | nan         |         nan | nan         | nan         |         nan | nan         |         nan | D61,K70,G11,I25,R29,R29,K31,Z86,Z86,Z90     | D610        | K709        | G119        | I259        | R296        | R296        | nan         | K318        | nan         | nan         | Z864        | Z864        | Z904        | nan         |         nan | nan         | nan         |         nan | nan         |         nan | D610,K709,G119,I259,R296,R296,K318,Z864,Z864,Z904      |           10 | 2020-11-20 |        79 |         8 | 2020-05-07 |        13 |             34 |        4 | 2020-05-07 |          1 | 2020-05-07 |         3 |         1 | Z        |     1 |               1 |     1 |     1 | G          | A89023   |        110 |   41942 |      nan | -             | nan           | Z94           | Z91           | Z42           |           nan |           nan |           nan |           nan |           nan |           nan |           nan |           nan |           nan |           nan |           nan |           nan |           nan |           nan |           nan |           nan |           nan |           nan |           nan | -  ,Z94,Z91,Z42   | -             | nan           | Z942          | Z917          | Z421          |           nan |           nan |           nan |           nan |           nan |           nan |           nan |           nan |           nan |           nan |           nan |           nan |           nan |           nan |           nan |           nan |           nan |           nan |           nan | -   ,Z942,Z917,Z421 |              3 | F30    | E14000614  | 5PL           |             1 | 5EM        | RJE        | RNN00      | RVJ-X      | 06L       |          nan |       00 | E10000007    | D        | E12000009    | 00CR       | E07000177      | 5GC          | Q30           |     1 | RN325      | E01027350 | E02004438 |          0 |         0 |             10 | N         |         79 |         78.5726 | Q31        | DZ19H    | 76361111273626 |        503 | E01009644 | E02004013 |          1 |    0.0497249 | K80          |     0.265684 | J18          |      14.57 |               5 |      27.96 |               3 |     nan |         nan | QHM               | QOQ             | QE1             |\n",
      "|  8 |    2021 |     202099 | 498876903032 | 335480124698 | TESTW5Bs40ne05VLS6bK4DmW5dWkwxUz | 2020-09-22 | 12         |          1 |          nan |         19 | nan         |      0.13 | Y                | Q54            | Y              | N31      | Y1701    | nan       | nan       | 04F               | 16C             | 13T                  |                           1 | 08V             |                      1 |          1 | Y58              | Y63            | Y58            | Z38         | R10         | Z11         | N08         | nan         | nan         | I51         | R29         | nan         | nan         | nan         | nan         | nan         | nan         |         nan | nan         | nan         |         nan | nan         |         nan | Z38,R10,Z11,N08,I51,R29                     | Z380        | R104        | Z115        | N083        | nan         | nan         | I517        | R296        | nan         | nan         | nan         | nan         | nan         | nan         |         nan | nan         | nan         |         nan | nan         |         nan | Z380,R104,Z115,N083,I517,R296                          |            6 | 2020-09-22 |        19 |         1 | 2020-06-18 |        53 |             59 |        0 | 2020-09-22 |          1 | 2020-09-22 |         3 |         1 | Z        |     1 |               1 |     1 |     0 | J          | G85109   |        800 |   41942 |      nan | -             | nan           | nan           | nan           | nan           |           nan |           nan |           nan |           nan |           nan |           nan |           nan |           nan |           nan |           nan |           nan |           nan |           nan |           nan |           nan |           nan |           nan |           nan |           nan | -                 | -             | nan           | nan           | nan           | nan           |           nan |           nan |           nan |           nan |           nan |           nan |           nan |           nan |           nan |           nan |           nan |           nan |           nan |           nan |           nan |           nan |           nan |           nan |           nan | -                   |            nan | F38    | E14000695  | 5MD           |             1 | 5M2        | RTP        | R1H00      | RJE        | 12F00     |          nan |       12 | E10000015    | B        | E12000004    | 30UN       | E07000009      | 5QD          | Q31           |     1 | RWY01      | nan       | E02001656 |          0 |         0 |              0 | Y         |         79 |         78.5616 | Q35        | LA97A    | 21887549387224 |        420 | E01008447 | E02001346 |          0 |    0         | I10          |     0        | Y49          |       2.87 |               5 |      10.99 |               3 |     nan |         nan | QHL               | Q99             | QUE             |\n",
      "|  9 |    2021 |     202099 | 539258852426 |  13171618718 | TESTW5Bs40ne05VLS6bK4DmW5dWkwxUz | 2020-10-03 | 11         |          1 |          nan |         19 | nan         |      0    | Q70              | Q52            | Y              | nan      | Y0201    | nan       | nan       | 15E               | 15M             | 15D                  |                           1 | 00Y             |                      1 |          1 | Y58              | Y59            | Y59            | H25         | K65         | P07         | D64         | I10         | E11         | nan         | nan         | E87         | T81         | nan         | nan         | nan         | nan         |         nan | nan         | nan         |         nan | nan         |         nan | H25,K65,P07,D64,I10,E11,E87,T81             | H258        | K650        | P071        | D649        | I10X        | E119        | nan         | nan         | E877        | T817        | nan         | nan         | nan         | nan         |         nan | nan         | nan         |         nan | nan         |         nan | H258,K650,P071,D649,I10X,E119,E877,T817                |            8 | 2021-01-21 |        19 |         1 | 2020-10-03 |         7 |              8 |        0 | 2020-10-03 |          4 | 2020-10-03 |         3 |         1 | Z        |     1 |               1 |     1 |     1 | H          | M85009   |        301 |   41942 |      nan | U20           | nan           | nan           | nan           | L72           |           nan |           nan |           nan |           nan |           nan |           nan |           nan |           nan |           nan |           nan |           nan |           nan |           nan |           nan |           nan |           nan |           nan |           nan |           nan | U20,L72           | U201          | nan           | nan           | nan           | L722          |           nan |           nan |           nan |           nan |           nan |           nan |           nan |           nan |           nan |           nan |           nan |           nan |           nan |           nan |           nan |           nan |           nan |           nan |           nan | U201,L722           |              2 | F33    | E14000819  | 5QW           |             1 | 5N6        | RBD        | RCB00      | RDU        | 00T       |          nan |       00 | E10000012    | J        | E12000005    | 00CN       | E06000060      | 5M2          | Q35           |     1 | RH5A8      | E01008877 | E02001185 |          2 |         0 |              2 | N         |         79 |         78.6466 | Q33        | PX57B    | 53804498748897 |        328 | E01010827 | E02006564 |          0 |    0         | nan          |     0        | I10          |      16.56 |               5 |       6.68 |               3 |     nan |         nan | QWO               | QOQ             | QMF             |\n"
     ]
    },
    {
     "name": "stderr",
     "output_type": "stream",
     "text": [
      "C:\\Users\\KEQU2\\AppData\\Local\\Temp/ipykernel_27316/18861283.py:1: DtypeWarning: Columns (117,142,176) have mixed types. Specify dtype option on import or set low_memory=False.\n",
      "  hes_data = pd.read_csv('artificial_hes_apc_2021.csv')\n"
     ]
    }
   ],
   "source": [
    "hes_data = pd.read_csv('artificial_hes_apc_2021.csv')\n",
    "\n",
    "\n",
    "text_file = open(\"Output.txt\", \"w\")\n",
    "text_file.write(print(hes_data.iloc[0:10].to_markdown())\n",
    "text_file.close()"
   ]
  },
  {
   "cell_type": "code",
   "execution_count": null,
   "id": "7f5a443d",
   "metadata": {},
   "outputs": [],
   "source": []
  }
 ],
 "metadata": {
  "kernelspec": {
   "display_name": "Python 3 (ipykernel)",
   "language": "python",
   "name": "python3"
  },
  "language_info": {
   "codemirror_mode": {
    "name": "ipython",
    "version": 3
   },
   "file_extension": ".py",
   "mimetype": "text/x-python",
   "name": "python",
   "nbconvert_exporter": "python",
   "pygments_lexer": "ipython3",
   "version": "3.9.7"
  }
 },
 "nbformat": 4,
 "nbformat_minor": 5
}
