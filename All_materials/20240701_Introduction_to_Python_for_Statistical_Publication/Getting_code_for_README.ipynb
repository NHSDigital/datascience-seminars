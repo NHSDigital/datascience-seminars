{
 "cells": [
  {
   "cell_type": "code",
   "execution_count": 1,
   "id": "707894d4",
   "metadata": {},
   "outputs": [],
   "source": [
    "import pandas as pd"
   ]
  },
  {
   "cell_type": "code",
   "execution_count": 2,
   "id": "5aee16b9",
   "metadata": {},
   "outputs": [
    {
     "name": "stdout",
     "output_type": "stream",
     "text": [
      "Index(['FYEAR', 'PARTYEAR', 'EPIKEY', 'AEKEY', 'PSEUDO_HESID', 'ADMIDATE',\n",
      "       'ADMIMETH', 'ADMINCAT', 'ADMINCATST', 'ADMISORC',\n",
      "       ...\n",
      "       'ALCBRDDIAG', 'SITEDIST', 'SITEDIST_FLAG', 'PROVDIST', 'PROVDIST_FLAG',\n",
      "       'HRG40', 'HRGLATE35', 'NER_GP_PRACTICE', 'NER_RESIDENCE',\n",
      "       'NER_TREATMENT'],\n",
      "      dtype='object', length=193)\n"
     ]
    },
    {
     "name": "stderr",
     "output_type": "stream",
     "text": [
      "C:\\Users\\KEQU2\\AppData\\Local\\Temp/ipykernel_12404/4090913151.py:1: DtypeWarning: Columns (117,142,176) have mixed types. Specify dtype option on import or set low_memory=False.\n",
      "  hes_data = pd.read_csv('artificial_hes_apc_2021.csv')\n"
     ]
    }
   ],
   "source": [
    "hes_data = pd.read_csv('artificial_hes_apc_2021.csv')\n",
    "\n",
    "list_of_cols = hes_data.columns\n",
    "\n",
    "print(list_of_cols)"
   ]
  },
  {
   "cell_type": "code",
   "execution_count": 3,
   "id": "02c14277",
   "metadata": {},
   "outputs": [
    {
     "name": "stdout",
     "output_type": "stream",
     "text": [
      "             AEKEY\n",
      "0     964210830588\n",
      "1     181876493987\n",
      "2     803179514887\n",
      "3     717571868364\n",
      "4     186017970650\n",
      "...            ...\n",
      "9995  458811949094\n",
      "9996  535907087711\n",
      "9997  330259049557\n",
      "9998   91456566017\n",
      "9999  797354734157\n",
      "\n",
      "[10000 rows x 1 columns]\n"
     ]
    },
    {
     "name": "stderr",
     "output_type": "stream",
     "text": [
      "C:\\Users\\KEQU2\\AppData\\Local\\Temp/ipykernel_12404/2739608447.py:1: DtypeWarning: Columns (117,142,176) have mixed types. Specify dtype option on import or set low_memory=False.\n",
      "  hes_data = pd.read_csv('artificial_hes_apc_2021.csv')\n"
     ]
    }
   ],
   "source": [
    "hes_data = pd.read_csv('artificial_hes_apc_2021.csv')\n",
    "\n",
    "selected_col = hes_data[['AEKEY']]\n",
    "\n",
    "print(selected_col)"
   ]
  },
  {
   "cell_type": "code",
   "execution_count": 4,
   "id": "8ea1192c",
   "metadata": {},
   "outputs": [
    {
     "name": "stdout",
     "output_type": "stream",
     "text": [
      "FYEAR                                          2021\n",
      "PARTYEAR                                     202099\n",
      "EPIKEY                                 682563308547\n",
      "AEKEY                                  717571868364\n",
      "PSEUDO_HESID       TESTiJLlLWNNzwDWQwc1km6K55HsW0xS\n",
      "                                 ...               \n",
      "HRG40                                           NaN\n",
      "HRGLATE35                                       NaN\n",
      "NER_GP_PRACTICE                                 QHL\n",
      "NER_RESIDENCE                                   QK1\n",
      "NER_TREATMENT                                   QU9\n",
      "Name: 3, Length: 193, dtype: object\n"
     ]
    },
    {
     "name": "stderr",
     "output_type": "stream",
     "text": [
      "C:\\Users\\KEQU2\\AppData\\Local\\Temp/ipykernel_12404/2409311640.py:1: DtypeWarning: Columns (117,142,176) have mixed types. Specify dtype option on import or set low_memory=False.\n",
      "  hes_data = pd.read_csv('artificial_hes_apc_2021.csv')\n"
     ]
    }
   ],
   "source": [
    "hes_data = pd.read_csv('artificial_hes_apc_2021.csv')\n",
    "\n",
    "selected_row = hes_data.iloc[3]\n",
    "\n",
    "print(selected_row)"
   ]
  },
  {
   "cell_type": "code",
   "execution_count": 5,
   "id": "4918d106",
   "metadata": {},
   "outputs": [
    {
     "name": "stdout",
     "output_type": "stream",
     "text": [
      "2020-06-23\n"
     ]
    },
    {
     "name": "stderr",
     "output_type": "stream",
     "text": [
      "C:\\Users\\KEQU2\\AppData\\Local\\Temp/ipykernel_12404/456522691.py:1: DtypeWarning: Columns (117,142,176) have mixed types. Specify dtype option on import or set low_memory=False.\n",
      "  hes_data = pd.read_csv('artificial_hes_apc_2021.csv')\n"
     ]
    }
   ],
   "source": [
    "hes_data = pd.read_csv('artificial_hes_apc_2021.csv')\n",
    "\n",
    "selected_entry = hes_data.iloc[3]['ADMIDATE']\n",
    "\n",
    "print(selected_entry)"
   ]
  },
  {
   "cell_type": "code",
   "execution_count": 6,
   "id": "540ef97b",
   "metadata": {},
   "outputs": [
    {
     "name": "stdout",
     "output_type": "stream",
     "text": [
      "0       98\n",
      "1       19\n",
      "2       19\n",
      "3       19\n",
      "4       51\n",
      "        ..\n",
      "9995    79\n",
      "9996    19\n",
      "9997    19\n",
      "9998    19\n",
      "9999    19\n",
      "Name: DISDEST, Length: 10000, dtype: int64\n"
     ]
    },
    {
     "name": "stderr",
     "output_type": "stream",
     "text": [
      "C:\\Users\\KEQU2\\AppData\\Local\\Temp/ipykernel_12404/105069623.py:1: DtypeWarning: Columns (117,142,176) have mixed types. Specify dtype option on import or set low_memory=False.\n",
      "  hes_data = pd.read_csv('artificial_hes_apc_2021.csv')\n"
     ]
    }
   ],
   "source": [
    "hes_data = pd.read_csv('artificial_hes_apc_2021.csv')\n",
    "\n",
    "number_col = hes_data['DISDEST']\n",
    "\n",
    "print(number_col)"
   ]
  },
  {
   "cell_type": "code",
   "execution_count": 7,
   "id": "9bfd61a9",
   "metadata": {},
   "outputs": [
    {
     "name": "stdout",
     "output_type": "stream",
     "text": [
      "0       R410test\n",
      "1       I214test\n",
      "2       A099test\n",
      "3       U071test\n",
      "4       Z380test\n",
      "          ...   \n",
      "9995    I64Xtest\n",
      "9996    N185test\n",
      "9997    N185test\n",
      "9998    K510test\n",
      "9999    O368test\n",
      "Name: DIAG_4_01, Length: 10000, dtype: object\n",
      "0       R410R410\n",
      "1       I214I214\n",
      "2       A099A099\n",
      "3       U071U071\n",
      "4       Z380Z380\n",
      "          ...   \n",
      "9995    I64XI64X\n",
      "9996    N185N185\n",
      "9997    N185N185\n",
      "9998    K510K510\n",
      "9999    O368O368\n",
      "Name: DIAG_4_01, Length: 10000, dtype: object\n"
     ]
    },
    {
     "name": "stderr",
     "output_type": "stream",
     "text": [
      "C:\\Users\\KEQU2\\AppData\\Local\\Temp/ipykernel_12404/3651708647.py:1: DtypeWarning: Columns (117,142,176) have mixed types. Specify dtype option on import or set low_memory=False.\n",
      "  hes_data = pd.read_csv('artificial_hes_apc_2021.csv')\n"
     ]
    }
   ],
   "source": [
    "hes_data = pd.read_csv('artificial_hes_apc_2021.csv')\n",
    "\n",
    "string_col = hes_data['DIAG_4_01']\n",
    "\n",
    "print(string_col + 'test')\n",
    "\n",
    "print(string_col * 2)"
   ]
  },
  {
   "cell_type": "code",
   "execution_count": 8,
   "id": "8685ebb8",
   "metadata": {},
   "outputs": [
    {
     "name": "stdout",
     "output_type": "stream",
     "text": [
      "0      2020-06-16\n",
      "1      2020-05-28\n",
      "2      1801-01-01\n",
      "3      2020-06-23\n",
      "4      2020-09-10\n",
      "          ...    \n",
      "9995   2020-04-21\n",
      "9996   2020-06-17\n",
      "9997   2020-06-03\n",
      "9998   2020-07-04\n",
      "9999   2020-08-04\n",
      "Name: ADMIDATE, Length: 10000, dtype: datetime64[ns]\n"
     ]
    },
    {
     "name": "stderr",
     "output_type": "stream",
     "text": [
      "C:\\Users\\KEQU2\\AppData\\Local\\Temp/ipykernel_12404/1376477981.py:1: DtypeWarning: Columns (117,142,176) have mixed types. Specify dtype option on import or set low_memory=False.\n",
      "  hes_data = pd.read_csv('artificial_hes_apc_2021.csv')\n"
     ]
    }
   ],
   "source": [
    "hes_data = pd.read_csv('artificial_hes_apc_2021.csv')\n",
    "\n",
    "date_looking_col = hes_data['ADMIDATE']\n",
    "\n",
    "date_col = pd.to_datetime(date_looking_col, format=\"%Y/%m/%d\")\n",
    "\n",
    "print(date_col)"
   ]
  },
  {
   "cell_type": "code",
   "execution_count": 9,
   "id": "131d3ce8",
   "metadata": {},
   "outputs": [
    {
     "name": "stdout",
     "output_type": "stream",
     "text": [
      "DISDEST    34.0488\n",
      "dtype: float64\n"
     ]
    },
    {
     "name": "stderr",
     "output_type": "stream",
     "text": [
      "C:\\Users\\KEQU2\\AppData\\Local\\Temp/ipykernel_12404/170796783.py:1: DtypeWarning: Columns (117,142,176) have mixed types. Specify dtype option on import or set low_memory=False.\n",
      "  hes_data = pd.read_csv('artificial_hes_apc_2021.csv')\n"
     ]
    }
   ],
   "source": [
    "hes_data = pd.read_csv('artificial_hes_apc_2021.csv')\n",
    "\n",
    "selecting_distances = hes_data[['DISDEST']]\n",
    "\n",
    "mean_distance = selecting_distances.mean()\n",
    "\n",
    "print(mean_distance)"
   ]
  },
  {
   "cell_type": "code",
   "execution_count": 10,
   "id": "f47cfe76",
   "metadata": {},
   "outputs": [
    {
     "name": "stdout",
     "output_type": "stream",
     "text": [
      "                                 DISDEST               \n",
      "                                     min max       mean\n",
      "PSEUDO_HESID                                           \n",
      "TEST01AK26NL3mnt9M7pxL16YoM0KNeL      19  19  19.000000\n",
      "TEST01b7Koh2w2JYQSIVw1be0U3fhrUl      19  19  19.000000\n",
      "TEST02XMLlZBZ8Fotjkz502C45o53o5P      19  79  34.000000\n",
      "TEST03rRjoB9JAjIy13RcBzy60HAhlw1      19  98  34.800000\n",
      "TEST04JhoF3YDnJ7hIqbQxQszSY3Girq      19  19  19.000000\n",
      "...                                  ...  ..        ...\n",
      "TESTzva2qhEOGuW1pPALBWTddAo32Wmx      19  19  19.000000\n",
      "TESTzvnkszWnwsL7PzRPMHsOCZHxT4Ba      19  19  19.000000\n",
      "TESTzwGcvgqIvYVqX4kggemxglcUHVUm      19  19  19.000000\n",
      "TESTzyqxoZw3dwcqUOjBUg9YfLooAfk4      19  98  45.333333\n",
      "TESTzzneRjqcDefWSwg5hmvFG0yCZcaq      19  19  19.000000\n",
      "\n",
      "[4189 rows x 3 columns]\n"
     ]
    },
    {
     "name": "stderr",
     "output_type": "stream",
     "text": [
      "C:\\Users\\KEQU2\\AppData\\Local\\Temp/ipykernel_12404/467228072.py:1: DtypeWarning: Columns (117,142,176) have mixed types. Specify dtype option on import or set low_memory=False.\n",
      "  hes_data = pd.read_csv('artificial_hes_apc_2021.csv')\n"
     ]
    }
   ],
   "source": [
    "hes_data = pd.read_csv('artificial_hes_apc_2021.csv')\n",
    "\n",
    "selecting_each_patient = hes_data[['PSEUDO_HESID','DISDEST']]\n",
    "\n",
    "grouping_agg_distance = selecting_each_patient.groupby('PSEUDO_HESID').agg(['min','max','mean'])\n",
    "\n",
    "print(grouping_agg_distance)"
   ]
  },
  {
   "cell_type": "code",
   "execution_count": 11,
   "id": "fd75d711",
   "metadata": {},
   "outputs": [
    {
     "name": "stdout",
     "output_type": "stream",
     "text": [
      "                 ELECDUR_CALC\n",
      "                         mean\n",
      "DIAG_4_01 ETHNOS             \n",
      "A020      99       132.000000\n",
      "A045      A         23.500000\n",
      "          J        362.000000\n",
      "A047      A         19.333333\n",
      "          B        191.000000\n",
      "...                       ...\n",
      "Z867      A        237.000000\n",
      "Z871      A         27.000000\n",
      "Z880      A          7.000000\n",
      "Z923      A         14.000000\n",
      "Z940      99        14.000000\n",
      "\n",
      "[3519 rows x 1 columns]\n"
     ]
    },
    {
     "name": "stderr",
     "output_type": "stream",
     "text": [
      "C:\\Users\\KEQU2\\AppData\\Local\\Temp/ipykernel_12404/2240135283.py:1: DtypeWarning: Columns (117,142,176) have mixed types. Specify dtype option on import or set low_memory=False.\n",
      "  hes_data = pd.read_csv('artificial_hes_apc_2021.csv')\n"
     ]
    }
   ],
   "source": [
    "hes_data = pd.read_csv('artificial_hes_apc_2021.csv')\n",
    "\n",
    "selecting_diag_codes_and_demogr_data = hes_data[['DIAG_4_01','ETHNOS','ELECDUR_CALC']]\n",
    "\n",
    "grouping_dia_codes = selecting_diag_codes_and_demogr_data.groupby(['DIAG_4_01','ETHNOS']).agg(['mean'])\n",
    "\n",
    "print(grouping_dia_codes)"
   ]
  },
  {
   "cell_type": "code",
   "execution_count": 20,
   "id": "c5dc13a4",
   "metadata": {},
   "outputs": [
    {
     "name": "stdout",
     "output_type": "stream",
     "text": [
      "      FYEAR  PARTYEAR        EPIKEY         AEKEY  \\\n",
      "24     2021    202099  585737430021  353207117498   \n",
      "25     2021    202099  641584095548  841241808265   \n",
      "47     2021    202099   66769092482    6927785461   \n",
      "51     2021    202099  668599587961  453493845747   \n",
      "52     2021    202099  323796065277  771797218037   \n",
      "...     ...       ...           ...           ...   \n",
      "9967   2021    202099  580375725360  386806005510   \n",
      "9968   2021    202099  493424399092  497563508989   \n",
      "9969   2021    202099  229952762411  123623831250   \n",
      "9970   2021    202099  362179904946  380855611607   \n",
      "9971   2021    202099  578573633465  410397003075   \n",
      "\n",
      "                          PSEUDO_HESID    ADMIDATE ADMIMETH  ADMINCAT  \\\n",
      "24    TESTQiOOCBiXNIQkvu0F5sKqZQFEPtLe  2020-08-26       12         1   \n",
      "25    TESTQiOOCBiXNIQkvu0F5sKqZQFEPtLe  2020-08-04       21         1   \n",
      "47    TESTMvMKBzJzvY3mHQTHyWDbAwEpIj5p  2020-09-10       82         1   \n",
      "51    TEST6tQBf6gzmItGIKByFQ1BmSbvdCbw  2020-08-26       21         1   \n",
      "52    TESTyZHKPGwho9gxjz1hZhqpW8xDfPKQ  2020-04-10       21         1   \n",
      "...                                ...         ...      ...       ...   \n",
      "9967  TESTJnwivGtsYbmjBjCGaBT1Xaa5TrpR  1801-01-01       11         1   \n",
      "9968  TESTJnwivGtsYbmjBjCGaBT1Xaa5TrpR  2020-04-03       21         1   \n",
      "9969  TESTJnwivGtsYbmjBjCGaBT1Xaa5TrpR  2020-03-29       28         1   \n",
      "9970  TESTJnwivGtsYbmjBjCGaBT1Xaa5TrpR  2020-12-03       21         1   \n",
      "9971  TESTJnwivGtsYbmjBjCGaBT1Xaa5TrpR  2020-10-21       11         1   \n",
      "\n",
      "      ADMINCATST  ADMISORC  ... ALCBRDDIAG  SITEDIST SITEDIST_FLAG PROVDIST  \\\n",
      "24           NaN        19  ...        I10     11.16           5.0     1.16   \n",
      "25           NaN        19  ...        I48      5.11           5.0    16.65   \n",
      "47           NaN        19  ...        NaN      9.68           5.0     1.58   \n",
      "51           NaN        19  ...        NaN      5.80           5.0     6.27   \n",
      "52           NaN        19  ...        NaN      6.41           5.0    11.78   \n",
      "...          ...       ...  ...        ...       ...           ...      ...   \n",
      "9967         NaN        19  ...        NaN      5.51           5.0    39.88   \n",
      "9968         NaN        19  ...        NaN      2.99           5.0     0.96   \n",
      "9969         NaN        19  ...        NaN     80.42           5.0    14.32   \n",
      "9970         NaN        19  ...        K70       NaN           5.0    13.18   \n",
      "9971         NaN        19  ...        I10     19.00           5.0    13.27   \n",
      "\n",
      "     PROVDIST_FLAG HRG40 HRGLATE35 NER_GP_PRACTICE NER_RESIDENCE NER_TREATMENT  \n",
      "24             3.0   NaN       NaN             QM7           QRL           QUA  \n",
      "25             3.0   NaN       NaN             QWE           QMM           QJK  \n",
      "47             3.0   NaN       NaN             QHM           QYG           QWU  \n",
      "51             3.0   NaN       NaN             QMJ           QUE           QPM  \n",
      "52             3.0   NaN       NaN             QU9           QOQ           QOQ  \n",
      "...            ...   ...       ...             ...           ...           ...  \n",
      "9967           5.0   NaN       NaN             QWE           QOX           QOP  \n",
      "9968           3.0   NaN       NaN             QUA           QJK           QJ2  \n",
      "9969           3.0   NaN       NaN             QNX           QJG           QXU  \n",
      "9970           3.0   NaN       NaN             QYG           QKK           QMM  \n",
      "9971           3.0   NaN       NaN             QJM           QUY           QRV  \n",
      "\n",
      "[1495 rows x 193 columns]\n"
     ]
    },
    {
     "name": "stderr",
     "output_type": "stream",
     "text": [
      "C:\\Users\\KEQU2\\AppData\\Local\\Temp/ipykernel_12404/4209051780.py:1: DtypeWarning: Columns (117,142,176) have mixed types. Specify dtype option on import or set low_memory=False.\n",
      "  hes_data = pd.read_csv('artificial_hes_apc_2021.csv')\n"
     ]
    }
   ],
   "source": [
    "hes_data = pd.read_csv('artificial_hes_apc_2021.csv')\n",
    "\n",
    "binary_filter_age = hes_data['STARTAGE_CALC'] < 18\n",
    "\n",
    "filtered_age = hes_data[binary_filter_age]\n",
    "\n",
    "print(filtered_age)"
   ]
  },
  {
   "cell_type": "code",
   "execution_count": null,
   "id": "12fc27b1",
   "metadata": {},
   "outputs": [],
   "source": []
  }
 ],
 "metadata": {
  "kernelspec": {
   "display_name": "Python 3 (ipykernel)",
   "language": "python",
   "name": "python3"
  },
  "language_info": {
   "codemirror_mode": {
    "name": "ipython",
    "version": 3
   },
   "file_extension": ".py",
   "mimetype": "text/x-python",
   "name": "python",
   "nbconvert_exporter": "python",
   "pygments_lexer": "ipython3",
   "version": "3.9.7"
  }
 },
 "nbformat": 4,
 "nbformat_minor": 5
}
